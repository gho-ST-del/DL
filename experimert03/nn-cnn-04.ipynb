{
 "metadata": {
  "kernelspec": {
   "language": "python",
   "display_name": "Python 3",
   "name": "python3"
  },
  "language_info": {
   "name": "python",
   "version": "3.10.12",
   "mimetype": "text/x-python",
   "codemirror_mode": {
    "name": "ipython",
    "version": 3
   },
   "pygments_lexer": "ipython3",
   "nbconvert_exporter": "python",
   "file_extension": ".py"
  }
 },
 "nbformat_minor": 4,
 "nbformat": 4,
 "cells": [
  {
   "cell_type": "markdown",
   "source": [
    "# 引入包"
   ],
   "metadata": {}
  },
  {
   "cell_type": "code",
   "source": [
    "import  torch\n",
    "import  torch.nn as nn\n",
    "import  torch.nn.functional as F\n",
    "import  numpy\n",
    "import random\n",
    "from torchvision import transforms\n",
    "from PIL import Image\n",
    "import os\n",
    "from torch.utils.data import  Dataset,random_split,DataLoader\n",
    "from numpy import random\n",
    "\n",
    "device = torch.device(\"cuda\" if torch.cuda.is_available() else \"cpu\")\n",
    "# device = \"cpu\""
   ],
   "metadata": {
    "ExecuteTime": {
     "start_time": "2023-08-03T08:30:04.711871Z",
     "end_time": "2023-08-03T08:30:08.209882Z"
    },
    "execution": {
     "iopub.status.busy": "2023-08-03T01:02:06.501786Z",
     "iopub.execute_input": "2023-08-03T01:02:06.502326Z",
     "iopub.status.idle": "2023-08-03T01:02:09.573313Z",
     "shell.execute_reply.started": "2023-08-03T01:02:06.502272Z",
     "shell.execute_reply": "2023-08-03T01:02:09.572315Z"
    },
    "trusted": true
   },
   "execution_count": 1,
   "outputs": []
  },
  {
   "cell_type": "markdown",
   "source": [
    "# 超参数"
   ],
   "metadata": {}
  },
  {
   "cell_type": "code",
   "source": [
    "batch_size = 158\n",
    "lr = 0.0001\n",
    "epoch_num = 50 \n",
    "num_work = 4"
   ],
   "metadata": {
    "ExecuteTime": {
     "start_time": "2023-08-02T21:06:56.015124Z",
     "end_time": "2023-08-02T21:06:56.043629Z"
    },
    "execution": {
     "iopub.status.busy": "2023-08-03T01:02:09.575740Z",
     "iopub.execute_input": "2023-08-03T01:02:09.576707Z",
     "iopub.status.idle": "2023-08-03T01:02:09.581118Z",
     "shell.execute_reply.started": "2023-08-03T01:02:09.576668Z",
     "shell.execute_reply": "2023-08-03T01:02:09.580136Z"
    },
    "trusted": true
   },
   "execution_count": 2,
   "outputs": []
  },
  {
   "cell_type": "markdown",
   "source": [
    "# 加载数据集合"
   ],
   "metadata": {}
  },
  {
   "cell_type": "code",
   "source": [
    "class MyDataset(Dataset):\n",
    "    def __init__(self, data_path, transform=None, train=True):\n",
    "\n",
    "        self.data_path = data_path\n",
    "        self.transform = transform\n",
    "        self.label_folder = os.listdir(self.data_path)\n",
    "        self.file = []\n",
    "        for str in self.label_folder:\n",
    "            st = os.path.join(self.data_path, str)\n",
    "            my = os.listdir(st)\n",
    "            random.shuffle(my)\n",
    "            t = my[int(len(my) * 0.7):]\n",
    "            if train:\n",
    "                t = my[:int(len(my) * 0.7)]\n",
    "\n",
    "            for index in t:\n",
    "                self.file.append(os.path.join(st, index))\n",
    "\n",
    "    def __len__(self):\n",
    "        return len(self.file)\n",
    "\n",
    "    def __getitem__(self, idx):\n",
    "\n",
    "        # 读取图像和标签文件\n",
    "        image = Image.open(self.file[idx])\n",
    "        label = os.path.split(os.path.dirname(self.file[idx]))[-1]\n",
    "        # 数据转换\n",
    "        if self.transform:\n",
    "            image = self.transform(image)\n",
    "\n",
    "        return image, torch.eye(3)[self.label_folder.index(label)]\n",
    "\n",
    "\n",
    "transform = transforms.Compose([\n",
    "    transforms.Resize((224, 244)),\n",
    "\n",
    "    transforms.ToTensor(),\n",
    "])\n",
    "\n",
    "# 创建自定义数据集\n",
    "TrainDataset = MyDataset(data_path=r'/kaggle/input/expersion03/train',\n",
    "                         transform=transform\n",
    "                         , train=True)\n",
    "TestDataset = MyDataset(data_path=r'/kaggle/input/expersion03/train',\n",
    "                        transform=transform\n",
    "                        , train=False)\n",
    "print(TrainDataset.__len__(), TestDataset.__len__())"
   ],
   "metadata": {
    "ExecuteTime": {
     "start_time": "2023-08-02T21:06:56.036635Z",
     "end_time": "2023-08-02T21:06:56.064630Z"
    },
    "execution": {
     "iopub.status.busy": "2023-08-03T01:02:09.582570Z",
     "iopub.execute_input": "2023-08-03T01:02:09.583239Z",
     "iopub.status.idle": "2023-08-03T01:02:10.037231Z",
     "shell.execute_reply.started": "2023-08-03T01:02:09.583202Z",
     "shell.execute_reply": "2023-08-03T01:02:10.036072Z"
    },
    "trusted": true
   },
   "execution_count": 3,
   "outputs": [
    {
     "name": "stdout",
     "text": "948 409\n",
     "output_type": "stream"
    }
   ]
  },
  {
   "cell_type": "markdown",
   "source": [
    "# 定义网络"
   ],
   "metadata": {}
  },
  {
   "cell_type": "code",
   "source": [
    "class AlexNet(nn.Module):\n",
    "    def __init__(self):\n",
    "        super(AlexNet, self).__init__()\n",
    "        self.conv = nn.Sequential(\n",
    "            nn.Conv2d(3, 96, 11, 4), # in_channels, out_channels, kernel_size, stride, padding\n",
    "            nn.ReLU(),\n",
    "            nn.MaxPool2d(3, 2), # kernel_size, stride\n",
    "            # 减小卷积窗口，使用填充为2来使得输入与输出的高和宽一致，且增大输出通道数\n",
    "            nn.Conv2d(96, 256, 5, 1, 2),\n",
    "            nn.ReLU(),\n",
    "            nn.MaxPool2d(3, 2),\n",
    "            # 连续3个卷积层，且使用更小的卷积窗口。除了最后的卷积层外，进一步增大了输出通道数。\n",
    "            nn.Conv2d(256, 384, 3, 1, 1),\n",
    "            nn.ReLU(),\n",
    "            nn.Conv2d(384, 384, 3, 1, 1),\n",
    "            nn.ReLU(),\n",
    "            nn.Conv2d(384, 256, 3, 1, 1),\n",
    "            nn.ReLU(),\n",
    "            nn.MaxPool2d(3, 2)\n",
    "        )\n",
    "        self.fc = nn.Sequential(\n",
    "            nn.Linear(256*30, 4096),\n",
    "            nn.ReLU(),\n",
    "            nn.Dropout(0.5),\n",
    "            nn.Linear(4096, 4096),\n",
    "            nn.ReLU(),\n",
    "            nn.Dropout(0.5),\n",
    "            nn.Linear(4096, 3),\n",
    "        )\n",
    "\n",
    "    def forward(self, img):\n",
    "        feature = self.conv(img)\n",
    "        output = self.fc(feature.view(img.shape[0], -1))\n",
    "        return output"
   ],
   "metadata": {
    "ExecuteTime": {
     "start_time": "2023-08-03T08:48:22.943988Z",
     "end_time": "2023-08-03T08:48:23.211044Z"
    },
    "execution": {
     "iopub.status.busy": "2023-08-03T01:02:10.038937Z",
     "iopub.execute_input": "2023-08-03T01:02:10.039315Z",
     "iopub.status.idle": "2023-08-03T01:02:10.049778Z",
     "shell.execute_reply.started": "2023-08-03T01:02:10.039279Z",
     "shell.execute_reply": "2023-08-03T01:02:10.048756Z"
    },
    "trusted": true
   },
   "execution_count": 4,
   "outputs": []
  },
  {
   "cell_type": "markdown",
   "source": [
    "# 训练与超参数"
   ],
   "metadata": {}
  },
  {
   "cell_type": "code",
   "source": [
    "import time\n",
    "net = AlexNet().to(device)\n",
    "train_loss=[]\n",
    "train_acc=[]\n",
    "test_loss=[]\n",
    "test_acc=[]\n",
    "opt = torch.optim.Adam(net.parameters(), lr=lr)\n",
    "train_loader = DataLoader(TrainDataset, batch_size=batch_size, shuffle=True)\n",
    "test_loader = DataLoader(TestDataset, batch_size=batch_size, shuffle=False)\n",
    "loss = nn.CrossEntropyLoss()\n",
    "start_time = time.time()\n",
    "for epoch in range(epoch_num):\n",
    "    train_loss_list = []\n",
    "    train_acc_list = []\n",
    "    test_loss_list = []\n",
    "    test_acc_list = []\n",
    "    for x, y in train_loader:\n",
    "        y_hat = net(x.to(device))\n",
    "        l = loss(y_hat.view(-1), y.view(-1).to(device))\n",
    "        acc = 0\n",
    "        y_index = torch.argmax(y_hat, dim=1)\n",
    "        Y = torch.argmax(y, dim=1)\n",
    "        for i in range(len(y_index)):\n",
    "            if y_index[i] == Y[i]:\n",
    "                acc += 1\n",
    "        train_acc_list.append(acc/len(y_index))\n",
    "        opt.zero_grad()\n",
    "        l.backward()\n",
    "        train_loss_list.append(l.item())\n",
    "        opt.step()\n",
    "\n",
    "    for x, y in test_loader:\n",
    "\n",
    "        if(x.size()[0]<batch_size):\n",
    "            continue\n",
    "        y_hat = net(x.to(device))\n",
    "\n",
    "        l = loss(y_hat.view(-1), y.view(-1).to(device))\n",
    "        # print(l)\n",
    "        acc = 0\n",
    "        y_index = torch.argmax(y_hat, dim=1)\n",
    "        Y = torch.argmax(y, dim=1)\n",
    "        for i in range(len(y_index)):\n",
    "            if y_index[i] == Y[i]:\n",
    "                acc += 1\n",
    "        test_acc_list.append(acc/len(y_index))\n",
    "        test_loss_list.append(l.item())\n",
    "        # print(\"done\")\n",
    "    train_loss_mean = numpy.mean(train_loss_list)\n",
    "    train_acc_mean=numpy.mean(train_acc_list)\n",
    "    train_loss.append(train_loss_mean)\n",
    "    train_acc.append(train_acc_mean)\n",
    "    test_loss_mean=numpy.mean(test_loss_list)\n",
    "    test_acc_mean=numpy.mean(test_acc_list)\n",
    "\n",
    "    test_loss.append(test_loss_mean)\n",
    "    test_acc.append(test_acc_mean)\n",
    "    print(\"epoch:\",epoch+1,\n",
    "          \"\\n\",\n",
    "          \"train_loss:\",train_loss_mean,'train_acc',train_acc_mean,\n",
    "           \"\\n\",\n",
    "          \"test_loss:\", test_loss_mean, 'test_acc',test_acc_mean\n",
    "          )\n",
    "end_time = time.time()\n",
    "training_time = end_time - start_time\n",
    "print(f\"Training time: {training_time:.2f} seconds\")"
   ],
   "metadata": {
    "ExecuteTime": {
     "start_time": "2023-08-02T21:05:45.289619Z",
     "end_time": "2023-08-02T21:05:57.882093Z"
    },
    "execution": {
     "iopub.status.busy": "2023-08-03T01:02:10.052429Z",
     "iopub.execute_input": "2023-08-03T01:02:10.053000Z",
     "iopub.status.idle": "2023-08-03T01:06:03.878598Z",
     "shell.execute_reply.started": "2023-08-03T01:02:10.052967Z",
     "shell.execute_reply": "2023-08-03T01:06:03.877560Z"
    },
    "trusted": true
   },
   "execution_count": 5,
   "outputs": [
    {
     "name": "stdout",
     "text": "epoch: 1 \n train_loss: 963.6989339192709 train_acc 0.5327004219409283 \n test_loss: 970.3584289550781 test_acc 0.4462025316455696\nepoch: 2 \n train_loss: 954.7838033040365 train_acc 0.5748945147679325 \n test_loss: 969.3859252929688 test_acc 0.4462025316455696\nepoch: 3 \n train_loss: 948.8149922688802 train_acc 0.5748945147679325 \n test_loss: 964.7837524414062 test_acc 0.4462025316455696\nepoch: 4 \n train_loss: 940.9866536458334 train_acc 0.5748945147679324 \n test_loss: 952.6445922851562 test_acc 0.4462025316455696\nepoch: 5 \n train_loss: 922.7659098307291 train_acc 0.5748945147679324 \n test_loss: 939.6045227050781 test_acc 0.4462025316455696\nepoch: 6 \n train_loss: 906.6076354980469 train_acc 0.6413502109704642 \n test_loss: 916.1203308105469 test_acc 0.7531645569620253\nepoch: 7 \n train_loss: 892.5757141113281 train_acc 0.7943037974683546 \n test_loss: 900.80224609375 test_acc 0.7879746835443038\nepoch: 8 \n train_loss: 883.4244588216146 train_acc 0.8248945147679324 \n test_loss: 881.8439636230469 test_acc 0.8164556962025317\nepoch: 9 \n train_loss: 870.8837585449219 train_acc 0.8438818565400844 \n test_loss: 867.8275146484375 test_acc 0.870253164556962\nepoch: 10 \n train_loss: 863.1093139648438 train_acc 0.8575949367088608 \n test_loss: 864.1325073242188 test_acc 0.870253164556962\nepoch: 11 \n train_loss: 857.4139404296875 train_acc 0.8744725738396625 \n test_loss: 861.3406982421875 test_acc 0.8734177215189873\nepoch: 12 \n train_loss: 852.2928161621094 train_acc 0.8744725738396625 \n test_loss: 850.5851440429688 test_acc 0.8987341772151899\nepoch: 13 \n train_loss: 845.0874430338541 train_acc 0.9061181434599156 \n test_loss: 849.4701538085938 test_acc 0.9113924050632911\nepoch: 14 \n train_loss: 841.6509501139323 train_acc 0.9156118143459916 \n test_loss: 846.0354919433594 test_acc 0.9050632911392406\nepoch: 15 \n train_loss: 837.8612569173177 train_acc 0.9198312236286919 \n test_loss: 839.2225646972656 test_acc 0.9240506329113924\nepoch: 16 \n train_loss: 832.9330546061198 train_acc 0.931434599156118 \n test_loss: 835.7826538085938 test_acc 0.9272151898734178\nepoch: 17 \n train_loss: 831.1048278808594 train_acc 0.9388185654008439 \n test_loss: 837.32470703125 test_acc 0.9272151898734178\nepoch: 18 \n train_loss: 827.9008280436198 train_acc 0.9409282700421939 \n test_loss: 832.4833068847656 test_acc 0.9398734177215189\nepoch: 19 \n train_loss: 825.9407653808594 train_acc 0.9504219409282703 \n test_loss: 829.4507446289062 test_acc 0.9430379746835443\nepoch: 20 \n train_loss: 824.2882385253906 train_acc 0.9504219409282699 \n test_loss: 834.050048828125 test_acc 0.9335443037974683\nepoch: 21 \n train_loss: 823.9278767903646 train_acc 0.9504219409282699 \n test_loss: 825.8040161132812 test_acc 0.9556962025316456\nepoch: 22 \n train_loss: 822.8510437011719 train_acc 0.9535864978902954 \n test_loss: 822.7340087890625 test_acc 0.9651898734177216\nepoch: 23 \n train_loss: 821.1715698242188 train_acc 0.9651898734177214 \n test_loss: 823.9881591796875 test_acc 0.9620253164556962\nepoch: 24 \n train_loss: 818.6261494954427 train_acc 0.9704641350210971 \n test_loss: 822.733642578125 test_acc 0.9556962025316456\nepoch: 25 \n train_loss: 818.1790873209635 train_acc 0.9620253164556961 \n test_loss: 822.5607299804688 test_acc 0.9462025316455696\nepoch: 26 \n train_loss: 816.3704223632812 train_acc 0.9715189873417721 \n test_loss: 818.7395935058594 test_acc 0.9715189873417722\nepoch: 27 \n train_loss: 814.0071614583334 train_acc 0.9757383966244726 \n test_loss: 816.8074645996094 test_acc 0.9778481012658228\nepoch: 28 \n train_loss: 813.3374837239584 train_acc 0.9810126582278481 \n test_loss: 818.8113708496094 test_acc 0.9683544303797469\nepoch: 29 \n train_loss: 811.6934204101562 train_acc 0.9820675105485233 \n test_loss: 820.1804504394531 test_acc 0.9651898734177216\nepoch: 30 \n train_loss: 812.890869140625 train_acc 0.9831223628691984 \n test_loss: 816.0337829589844 test_acc 0.9715189873417721\nepoch: 31 \n train_loss: 811.0667521158854 train_acc 0.9873417721518987 \n test_loss: 814.0245361328125 test_acc 0.9810126582278481\nepoch: 32 \n train_loss: 809.413564046224 train_acc 0.9841772151898733 \n test_loss: 813.6617126464844 test_acc 0.9841772151898734\nepoch: 33 \n train_loss: 809.1211140950521 train_acc 0.9862869198312235 \n test_loss: 812.2378540039062 test_acc 0.9810126582278481\nepoch: 34 \n train_loss: 807.8748270670573 train_acc 0.990506329113924 \n test_loss: 811.3081359863281 test_acc 0.9778481012658228\nepoch: 35 \n train_loss: 808.0285847981771 train_acc 0.9873417721518987 \n test_loss: 809.9460754394531 test_acc 0.9778481012658228\nepoch: 36 \n train_loss: 806.4653625488281 train_acc 0.9915611814345991 \n test_loss: 810.7570190429688 test_acc 0.9841772151898734\nepoch: 37 \n train_loss: 806.0381164550781 train_acc 0.9936708860759493 \n test_loss: 807.9635925292969 test_acc 0.990506329113924\nepoch: 38 \n train_loss: 805.7449442545573 train_acc 0.990506329113924 \n test_loss: 807.8184204101562 test_acc 0.990506329113924\nepoch: 39 \n train_loss: 805.638417561849 train_acc 0.9915611814345991 \n test_loss: 808.42333984375 test_acc 0.9873417721518987\nepoch: 40 \n train_loss: 805.0144348144531 train_acc 0.9915611814345991 \n test_loss: 808.0728149414062 test_acc 0.9841772151898733\nepoch: 41 \n train_loss: 805.4280802408854 train_acc 0.9926160337552742 \n test_loss: 808.6051635742188 test_acc 0.9841772151898734\nepoch: 42 \n train_loss: 804.8013407389323 train_acc 0.9947257383966245 \n test_loss: 808.3272705078125 test_acc 0.9841772151898734\nepoch: 43 \n train_loss: 804.6824544270834 train_acc 0.9947257383966245 \n test_loss: 807.7193298339844 test_acc 0.9873417721518987\nepoch: 44 \n train_loss: 804.3950500488281 train_acc 0.9947257383966245 \n test_loss: 808.004150390625 test_acc 0.9841772151898734\nepoch: 45 \n train_loss: 803.7207946777344 train_acc 0.9957805907172995 \n test_loss: 805.4357299804688 test_acc 0.990506329113924\nepoch: 46 \n train_loss: 803.4730122884115 train_acc 0.9968354430379747 \n test_loss: 806.790771484375 test_acc 0.9873417721518987\nepoch: 47 \n train_loss: 803.6138407389323 train_acc 0.9957805907172995 \n test_loss: 806.3552856445312 test_acc 0.9841772151898734\nepoch: 48 \n train_loss: 803.4861653645834 train_acc 0.9936708860759493 \n test_loss: 806.4462890625 test_acc 0.9873417721518987\nepoch: 49 \n train_loss: 803.7649637858073 train_acc 0.9947257383966245 \n test_loss: 808.6215209960938 test_acc 0.990506329113924\nepoch: 50 \n train_loss: 803.5008138020834 train_acc 0.9947257383966245 \n test_loss: 807.354736328125 test_acc 0.9841772151898734\nTraining time: 230.68 seconds\n",
     "output_type": "stream"
    }
   ]
  },
  {
   "cell_type": "code",
   "source": [
    "from matplotlib import pyplot as plt\n",
    "\n",
    "plt.figure(figsize=(10, 5))\n",
    "plt.subplot(1, 2, 1)\n",
    "\n",
    "plt.plot(train_loss, 'b-',label=\"train_loss\")\n",
    "plt.plot(test_loss, 'r-' ,label=\"test_loss\")\n",
    "plt.xlabel('Epoch')\n",
    "plt.ylabel('Loss')\n",
    "plt.title('Loss')\n",
    "plt.legend()\n",
    "plt.subplot(1, 2, 2)\n",
    "plt.plot(train_acc, 'b-',label=\"train_acc\")\n",
    "plt.plot(test_acc, 'r-' ,label=\"test_acc\")\n",
    "plt.xlabel('Epoch')\n",
    "plt.ylabel('Accuracy')\n",
    "plt.title('Accuracy')\n",
    "plt.legend()\n",
    "plt.show()"
   ],
   "metadata": {
    "collapsed": false,
    "ExecuteTime": {
     "start_time": "2023-08-02T21:05:57.885496Z",
     "end_time": "2023-08-02T21:05:58.586926Z"
    },
    "jupyter": {
     "outputs_hidden": false
    },
    "execution": {
     "iopub.status.busy": "2023-08-03T01:06:03.880043Z",
     "iopub.execute_input": "2023-08-03T01:06:03.880666Z",
     "iopub.status.idle": "2023-08-03T01:06:04.417749Z",
     "shell.execute_reply.started": "2023-08-03T01:06:03.880627Z",
     "shell.execute_reply": "2023-08-03T01:06:04.416775Z"
    },
    "trusted": true
   },
   "execution_count": 6,
   "outputs": [
    {
     "output_type": "display_data",
     "data": {
      "text/plain": "<Figure size 1000x500 with 2 Axes>",
      "image/png": "[encoded data removed]"
     },
     "metadata": {}
    }
   ]
  }
 ]
}
