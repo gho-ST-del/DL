{
 "cells": [
  {
   "cell_type": "markdown",
   "id": "c5b373d2",
   "metadata": {
    "papermill": {
     "duration": 0.005431,
     "end_time": "2023-08-04T14:54:35.748938",
     "exception": false,
     "start_time": "2023-08-04T14:54:35.743507",
     "status": "completed"
    },
    "tags": []
   },
   "source": [
    "# 引入包"
   ]
  },
  {
   "cell_type": "code",
   "execution_count": 1,
   "id": "3aeba00f",
   "metadata": {
    "ExecuteTime": {
     "end_time": "2023-08-02T12:18:30.378486Z",
     "start_time": "2023-08-02T12:18:30.357216Z"
    },
    "execution": {
     "iopub.execute_input": "2023-08-04T14:54:35.760674Z",
     "iopub.status.busy": "2023-08-04T14:54:35.760278Z",
     "iopub.status.idle": "2023-08-04T14:54:39.838144Z",
     "shell.execute_reply": "2023-08-04T14:54:39.836274Z"
    },
    "papermill": {
     "duration": 4.087511,
     "end_time": "2023-08-04T14:54:39.841522",
     "exception": false,
     "start_time": "2023-08-04T14:54:35.754011",
     "status": "completed"
    },
    "tags": []
   },
   "outputs": [],
   "source": [
    "import  torch\n",
    "import  torch.nn as nn\n",
    "import  torch.nn.functional as F\n",
    "import  numpy\n",
    "import random\n",
    "from torchvision import transforms\n",
    "from PIL import Image\n",
    "import os\n",
    "from torch.utils.data import  Dataset,random_split,DataLoader\n",
    "from numpy import random\n",
    "\n",
    "device = torch.device(\"cuda\" if torch.cuda.is_available() else \"cpu\")\n",
    "# device = \"cpu\""
   ]
  },
  {
   "cell_type": "markdown",
   "id": "1839f58b",
   "metadata": {
    "papermill": {
     "duration": 0.005054,
     "end_time": "2023-08-04T14:54:39.851862",
     "exception": false,
     "start_time": "2023-08-04T14:54:39.846808",
     "status": "completed"
    },
    "tags": []
   },
   "source": [
    "# 超参数"
   ]
  },
  {
   "cell_type": "code",
   "execution_count": 2,
   "id": "2a3b31cd",
   "metadata": {
    "ExecuteTime": {
     "end_time": "2023-08-02T12:18:30.406501Z",
     "start_time": "2023-08-02T12:18:30.369486Z"
    },
    "execution": {
     "iopub.execute_input": "2023-08-04T14:54:39.863523Z",
     "iopub.status.busy": "2023-08-04T14:54:39.862794Z",
     "iopub.status.idle": "2023-08-04T14:54:39.867716Z",
     "shell.execute_reply": "2023-08-04T14:54:39.866794Z"
    },
    "papermill": {
     "duration": 0.013481,
     "end_time": "2023-08-04T14:54:39.870085",
     "exception": false,
     "start_time": "2023-08-04T14:54:39.856604",
     "status": "completed"
    },
    "tags": []
   },
   "outputs": [],
   "source": [
    "batch_size = 316\n",
    "lr = 0.001\n",
    "epoch_num = 20"
   ]
  },
  {
   "cell_type": "markdown",
   "id": "09b2a7af",
   "metadata": {
    "papermill": {
     "duration": 0.004517,
     "end_time": "2023-08-04T14:54:39.879656",
     "exception": false,
     "start_time": "2023-08-04T14:54:39.875139",
     "status": "completed"
    },
    "tags": []
   },
   "source": [
    "# 加载数据集合"
   ]
  },
  {
   "cell_type": "code",
   "execution_count": 3,
   "id": "399cde3d",
   "metadata": {
    "ExecuteTime": {
     "end_time": "2023-08-02T12:18:30.407486Z",
     "start_time": "2023-08-02T12:18:30.387487Z"
    },
    "execution": {
     "iopub.execute_input": "2023-08-04T14:54:39.891422Z",
     "iopub.status.busy": "2023-08-04T14:54:39.891004Z",
     "iopub.status.idle": "2023-08-04T14:54:40.242518Z",
     "shell.execute_reply": "2023-08-04T14:54:40.241605Z"
    },
    "papermill": {
     "duration": 0.361399,
     "end_time": "2023-08-04T14:54:40.245891",
     "exception": false,
     "start_time": "2023-08-04T14:54:39.884492",
     "status": "completed"
    },
    "tags": []
   },
   "outputs": [
    {
     "name": "stdout",
     "output_type": "stream",
     "text": [
      "948 409\n"
     ]
    }
   ],
   "source": [
    "class MyDataset(Dataset):\n",
    "    def __init__(self, data_path, transform=None, train=True):\n",
    "\n",
    "        self.data_path = data_path\n",
    "        self.transform = transform\n",
    "        self.label_folder = os.listdir(self.data_path)\n",
    "        self.file = []\n",
    "        for str in self.label_folder:\n",
    "            st = os.path.join(self.data_path, str)\n",
    "            my = os.listdir(st)\n",
    "            random.shuffle(my)\n",
    "            t = my[int(len(my) * 0.7):]\n",
    "            if train:\n",
    "                t = my[:int(len(my) * 0.7)]\n",
    "\n",
    "            for index in t:\n",
    "                self.file.append(os.path.join(st, index))\n",
    "\n",
    "    def __len__(self):\n",
    "        return len(self.file)\n",
    "\n",
    "    def __getitem__(self, idx):\n",
    "\n",
    "        # 读取图像和标签文件\n",
    "        image = Image.open(self.file[idx])\n",
    "        label = os.path.split(os.path.dirname(self.file[idx]))[-1]\n",
    "        # 数据转换\n",
    "        if self.transform:\n",
    "            image = self.transform(image)\n",
    "\n",
    "        return image, torch.eye(3)[self.label_folder.index(label)]\n",
    "\n",
    "\n",
    "transform = transforms.Compose([\n",
    "    transforms.Resize((70, 70)),\n",
    "\n",
    "    transforms.ToTensor(),\n",
    "])\n",
    "\n",
    "# 创建自定义数据集\n",
    "TrainDataset = MyDataset(data_path=r'/kaggle/input/expersion03/train',\n",
    "                         transform=transform\n",
    "                         , train=True)\n",
    "TestDataset = MyDataset(data_path=r'/kaggle/input/expersion03/train',\n",
    "                        transform=transform\n",
    "                        , train=False)\n",
    "print(TrainDataset.__len__(), TestDataset.__len__())"
   ]
  },
  {
   "cell_type": "markdown",
   "id": "0f525d21",
   "metadata": {
    "papermill": {
     "duration": 0.004814,
     "end_time": "2023-08-04T14:54:40.255854",
     "exception": false,
     "start_time": "2023-08-04T14:54:40.251040",
     "status": "completed"
    },
    "tags": []
   },
   "source": [
    "# 定义卷积结构"
   ]
  },
  {
   "cell_type": "code",
   "execution_count": 4,
   "id": "48039cfe",
   "metadata": {
    "ExecuteTime": {
     "end_time": "2023-08-02T12:18:30.415488Z",
     "start_time": "2023-08-02T12:18:30.406501Z"
    },
    "execution": {
     "iopub.execute_input": "2023-08-04T14:54:40.267903Z",
     "iopub.status.busy": "2023-08-04T14:54:40.267278Z",
     "iopub.status.idle": "2023-08-04T14:54:40.280275Z",
     "shell.execute_reply": "2023-08-04T14:54:40.279482Z"
    },
    "papermill": {
     "duration": 0.022302,
     "end_time": "2023-08-04T14:54:40.283001",
     "exception": false,
     "start_time": "2023-08-04T14:54:40.260699",
     "status": "completed"
    },
    "tags": []
   },
   "outputs": [],
   "source": [
    "def corr2d(X, K):\n",
    "    batch_size, H, W = X.shape\n",
    "    k_h, k_w = K.shape\n",
    "    # 初始化结果矩阵\n",
    "    Y = torch.zeros((batch_size, H - k_h + 1, W - k_w + 1)).to(device)\n",
    "    for i in range(Y.shape[1]):\n",
    "        for j in range(Y.shape[2]):\n",
    "            Y[:, i, j] = (X[:, i:i + k_h, j:j + k_w] * K).sum()\n",
    "    return Y\n",
    "\n",
    "\n",
    "def corr2d_multi_in(X, K):\n",
    "    res = corr2d(X[:, 0, :, :], K[0, :, :])\n",
    "    for i in range(1, X.shape[1]):\n",
    "        res += corr2d(X[:, i, :, :], K[i, :, :])\n",
    "    return res\n",
    "\n",
    "\n",
    "def corr2d_multi_in_out(X, K):\n",
    "    return torch.stack([corr2d_multi_in(X, k) for k in K], dim=1)\n",
    "\n",
    "\n",
    "class Conv2d(nn.Module):\n",
    "    def __init__(self, in_channels, out_channels, kernel_size, padding=0):\n",
    "        super(Conv2d, self).__init__()\n",
    "        self.in_channels = in_channels\n",
    "        self.out_channels = out_channels\n",
    "        self.kernel_size = kernel_size\n",
    "        self.padding = padding\n",
    "        kernel_size = (kernel_size, kernel_size)\n",
    "        self.weight = nn.Parameter(torch.randn((out_channels, in_channels) + kernel_size))\n",
    "        self.bias = nn.Parameter(torch.randn(self.out_channels, 1, 1))\n",
    "\n",
    "    def forward(self, input_data):\n",
    "        # 对输入数据进行填充\n",
    "        input_data = torch.nn.functional.pad(input_data, (self.padding, self.padding, self.padding, self.padding))\n",
    "\n",
    "        return corr2d_multi_in_out(input_data, self.weight) + self.bias"
   ]
  },
  {
   "cell_type": "code",
   "execution_count": 5,
   "id": "7fe45ee5",
   "metadata": {
    "ExecuteTime": {
     "end_time": "2023-08-02T12:18:30.458015Z",
     "start_time": "2023-08-02T12:18:30.420490Z"
    },
    "execution": {
     "iopub.execute_input": "2023-08-04T14:54:40.295407Z",
     "iopub.status.busy": "2023-08-04T14:54:40.294987Z",
     "iopub.status.idle": "2023-08-04T14:54:40.304817Z",
     "shell.execute_reply": "2023-08-04T14:54:40.303377Z"
    },
    "papermill": {
     "duration": 0.019225,
     "end_time": "2023-08-04T14:54:40.307415",
     "exception": false,
     "start_time": "2023-08-04T14:54:40.288190",
     "status": "completed"
    },
    "tags": []
   },
   "outputs": [],
   "source": [
    "class Net(nn.Module):\n",
    "    def __init__(self):\n",
    "        super(Net, self).__init__()\n",
    "        self.conv = nn.Sequential(\n",
    "            Conv2d(3, 32, 3),\n",
    "            nn.BatchNorm2d(32),\n",
    "            nn.ReLU(inplace=True)\n",
    "        )\n",
    "        self.fc = nn.Sequential(\n",
    "            nn.Linear(128, 1024),\n",
    "            nn.ReLU(inplace=True),\n",
    "            nn.Linear(1024, 512),\n",
    "            nn.ReLU(inplace=True),\n",
    "            nn.Linear(512, 3)\n",
    "        )\n",
    "        # self.fc = nn.Linear(2048, 3)\n",
    "\n",
    "    def forward(self, x):\n",
    "        out = self.conv(x)\n",
    "        out = nn.functional.avg_pool2d(out, 30)\n",
    "\n",
    "        out = out.squeeze()\n",
    "        out = self.fc(out.view(batch_size, -1))\n",
    "        out = F.softmax(out, dim=1)\n",
    "        return out"
   ]
  },
  {
   "cell_type": "markdown",
   "id": "b08b3550",
   "metadata": {
    "papermill": {
     "duration": 0.004916,
     "end_time": "2023-08-04T14:54:40.317686",
     "exception": false,
     "start_time": "2023-08-04T14:54:40.312770",
     "status": "completed"
    },
    "tags": []
   },
   "source": [
    "# 训练与超参数"
   ]
  },
  {
   "cell_type": "code",
   "execution_count": 6,
   "id": "c49e043f",
   "metadata": {
    "ExecuteTime": {
     "end_time": "2023-08-02T12:47:29.937695Z",
     "start_time": "2023-08-02T12:18:30.430492Z"
    },
    "execution": {
     "iopub.execute_input": "2023-08-04T14:54:40.330120Z",
     "iopub.status.busy": "2023-08-04T14:54:40.329562Z",
     "iopub.status.idle": "2023-08-04T19:20:43.670870Z",
     "shell.execute_reply": "2023-08-04T19:20:43.669674Z"
    },
    "papermill": {
     "duration": 15963.35757,
     "end_time": "2023-08-04T19:20:43.680396",
     "exception": false,
     "start_time": "2023-08-04T14:54:40.322826",
     "status": "completed"
    },
    "tags": []
   },
   "outputs": [
    {
     "name": "stdout",
     "output_type": "stream",
     "text": [
      "epoch: 1 train_loss: 2150.82275390625 train_acc 0.4261603375527427 test_loss: 2158.39794921875 test_acc 0.4462025316455696\n",
      "epoch: 2 train_loss: 2128.327880859375 train_acc 0.5748945147679324 test_loss: 2167.019287109375 test_acc 0.4462025316455696\n",
      "epoch: 3 train_loss: 2127.2745768229165 train_acc 0.5748945147679326 test_loss: 2167.95458984375 test_acc 0.4462025316455696\n",
      "epoch: 4 train_loss: 2127.393798828125 train_acc 0.5748945147679324 test_loss: 2168.052490234375 test_acc 0.4462025316455696\n",
      "epoch: 5 train_loss: 2127.4025065104165 train_acc 0.5748945147679324 test_loss: 2168.066650390625 test_acc 0.4462025316455696\n",
      "epoch: 6 train_loss: 2127.4037272135415 train_acc 0.5748945147679326 test_loss: 2168.069580078125 test_acc 0.4462025316455696\n",
      "epoch: 7 train_loss: 2127.4042154947915 train_acc 0.5748945147679324 test_loss: 2168.07080078125 test_acc 0.4462025316455696\n",
      "epoch: 8 train_loss: 2127.4043782552085 train_acc 0.5748945147679325 test_loss: 2168.071044921875 test_acc 0.4462025316455696\n",
      "epoch: 9 train_loss: 2127.4046223958335 train_acc 0.5748945147679325 test_loss: 2168.071044921875 test_acc 0.4462025316455696\n",
      "epoch: 10 train_loss: 2127.404541015625 train_acc 0.5748945147679324 test_loss: 2168.071044921875 test_acc 0.4462025316455696\n",
      "epoch: 11 train_loss: 2127.404296875 train_acc 0.5748945147679325 test_loss: 2168.071044921875 test_acc 0.4462025316455696\n",
      "epoch: 12 train_loss: 2127.4044596354165 train_acc 0.5748945147679325 test_loss: 2168.071044921875 test_acc 0.4462025316455696\n",
      "epoch: 13 train_loss: 2127.404296875 train_acc 0.5748945147679324 test_loss: 2168.071044921875 test_acc 0.4462025316455696\n",
      "epoch: 14 train_loss: 2127.404296875 train_acc 0.5748945147679324 test_loss: 2168.071044921875 test_acc 0.4462025316455696\n",
      "epoch: 15 train_loss: 2127.404296875 train_acc 0.5748945147679324 test_loss: 2168.071044921875 test_acc 0.4462025316455696\n",
      "epoch: 16 train_loss: 2127.4043782552085 train_acc 0.5748945147679324 test_loss: 2168.071044921875 test_acc 0.4462025316455696\n",
      "epoch: 17 train_loss: 2127.4043782552085 train_acc 0.5748945147679324 test_loss: 2168.071044921875 test_acc 0.4462025316455696\n",
      "epoch: 18 train_loss: 2127.4044596354165 train_acc 0.5748945147679324 test_loss: 2168.071044921875 test_acc 0.4462025316455696\n",
      "epoch: 19 train_loss: 2127.4046223958335 train_acc 0.5748945147679324 test_loss: 2168.07080078125 test_acc 0.4462025316455696\n",
      "epoch: 20 train_loss: 2127.404541015625 train_acc 0.5748945147679324 test_loss: 2168.070556640625 test_acc 0.4462025316455696\n",
      "Training time: 15963.25 seconds\n"
     ]
    }
   ],
   "source": [
    "import time\n",
    "\n",
    "net = Net().to(device)\n",
    "train_loss=[]\n",
    "train_acc=[]\n",
    "test_loss=[]\n",
    "test_acc=[]\n",
    "opt = torch.optim.Adam(net.parameters(), lr=lr)\n",
    "train_loader = DataLoader(TrainDataset, batch_size=batch_size, shuffle=True)\n",
    "test_loader = DataLoader(TestDataset, batch_size=batch_size, shuffle=False)\n",
    "loss = nn.CrossEntropyLoss()\n",
    "start_time = time.time()\n",
    "for epoch in range(epoch_num):\n",
    "    train_loss_list = []\n",
    "    train_acc_list = []\n",
    "    test_loss_list = []\n",
    "    test_acc_list = []\n",
    "    for x, y in train_loader:\n",
    "        # print(y.shape)\n",
    "        # plt.imshow(x[1].permute(1, 2, 0))  # 注意要将通道维度调整为最后一个维度\n",
    "        # plt.axis('off')\n",
    "        # plt.show()\n",
    "        opt.zero_grad()\n",
    "        y_hat = net(x.to(device))\n",
    "        l = loss(y_hat.view(-1), y.view(-1).to(device))\n",
    "        l.backward()\n",
    "        opt.step()\n",
    "        # print(l)\n",
    "        acc = 0\n",
    "        y_index = torch.argmax(y_hat, dim=1)\n",
    "        Y = torch.argmax(y, dim=1)\n",
    "        for i in range(len(y_index)):\n",
    "            if y_index[i] == Y[i]:\n",
    "                acc += 1\n",
    "        train_acc_list.append(acc/len(y_index))\n",
    "\n",
    "\n",
    "        train_loss_list.append(l.item())\n",
    "\n",
    "        # print(\"done\")\n",
    "    for x, y in test_loader:\n",
    "        # print(y.shape)\n",
    "        # plt.imshow(x[1].permute(1, 2, 0))  # 注意要将通道维度调整为最后一个维度\n",
    "        # plt.axis('off')\n",
    "        # plt.show()\n",
    "        if(x.size()[0]<batch_size):\n",
    "            continue\n",
    "        y_hat = net(x.to(device))\n",
    "\n",
    "        l = loss(y_hat.view(-1), y.view(-1).to(device))\n",
    "        # print(l)\n",
    "        acc = 0\n",
    "        y_index = torch.argmax(y_hat, dim=1)\n",
    "        Y = torch.argmax(y, dim=1)\n",
    "        for i in range(len(y_index)):\n",
    "            if y_index[i] == Y[i]:\n",
    "                acc += 1\n",
    "        test_acc_list.append(acc/len(y_index))\n",
    "        test_loss_list.append(l.item())\n",
    "        # print(\"done\")\n",
    "    train_loss_mean = numpy.mean(train_loss_list)\n",
    "    train_acc_mean=numpy.mean(train_acc_list)\n",
    "    train_loss.append(train_loss_mean)\n",
    "    train_acc.append(train_acc_mean)\n",
    "    test_loss_mean=numpy.mean(test_loss_list)\n",
    "    test_acc_mean=numpy.mean(test_acc_list)\n",
    "\n",
    "    test_loss.append(test_loss_mean)\n",
    "    test_acc.append(test_acc_mean)\n",
    "    print(\"epoch:\",epoch+1,\"train_loss:\",train_loss_mean,'train_acc',train_acc_mean\n",
    "\n",
    "    ,\"test_loss:\", test_loss_mean, 'test_acc',test_acc_mean\n",
    "          )\n",
    "end_time = time.time()\n",
    "training_time = end_time - start_time\n",
    "print(f\"Training time: {training_time:.2f} seconds\")"
   ]
  },
  {
   "cell_type": "code",
   "execution_count": 7,
   "id": "d667775e",
   "metadata": {
    "ExecuteTime": {
     "end_time": "2023-08-02T14:53:13.353066Z",
     "start_time": "2023-08-02T14:53:12.893790Z"
    },
    "collapsed": false,
    "execution": {
     "iopub.execute_input": "2023-08-04T19:20:43.696889Z",
     "iopub.status.busy": "2023-08-04T19:20:43.696466Z",
     "iopub.status.idle": "2023-08-04T19:20:44.412510Z",
     "shell.execute_reply": "2023-08-04T19:20:44.411068Z"
    },
    "jupyter": {
     "outputs_hidden": false
    },
    "papermill": {
     "duration": 0.728146,
     "end_time": "2023-08-04T19:20:44.415807",
     "exception": false,
     "start_time": "2023-08-04T19:20:43.687661",
     "status": "completed"
    },
    "tags": []
   },
   "outputs": [
    {
     "data": {
      "image/png": "[encoded data removed]",
      "text/plain": [
       "<Figure size 1000x500 with 2 Axes>"
      ]
     },
     "metadata": {},
     "output_type": "display_data"
    }
   ],
   "source": [
    "from matplotlib import pyplot as plt\n",
    "\n",
    "plt.figure(figsize=(10, 5))\n",
    "plt.subplot(1, 2, 1)\n",
    "\n",
    "plt.plot(range(len(train_loss)),train_loss, 'b-',label=\"train_loss\")\n",
    "plt.plot(range(len(train_loss)),test_loss, 'r-' ,label=\"test_loss\")\n",
    "plt.xlabel('Epoch')\n",
    "plt.ylabel('Loss')\n",
    "plt.title('Loss')\n",
    "plt.legend()\n",
    "plt.subplot(1, 2, 2)\n",
    "plt.plot(range(len(train_loss)),train_acc, 'b-',label=\"train_acc\")\n",
    "plt.plot(range(len(train_loss)),test_acc, 'r-' ,label=\"test_acc\")\n",
    "plt.xlabel('Epoch')\n",
    "plt.ylabel('Accuracy')\n",
    "plt.title('Accuracy')\n",
    "plt.legend()\n",
    "plt.show()"
   ]
  }
 ],
 "metadata": {
  "kernelspec": {
   "display_name": "Python 3",
   "language": "python",
   "name": "python3"
  },
  "language_info": {
   "codemirror_mode": {
    "name": "ipython",
    "version": 3
   },
   "file_extension": ".py",
   "mimetype": "text/x-python",
   "name": "python",
   "nbconvert_exporter": "python",
   "pygments_lexer": "ipython3",
   "version": "3.10.12"
  },
  "papermill": {
   "default_parameters": {},
   "duration": 15983.450642,
   "end_time": "2023-08-04T19:20:47.594693",
   "environment_variables": {},
   "exception": null,
   "input_path": "__notebook__.ipynb",
   "output_path": "__notebook__.ipynb",
   "parameters": {},
   "start_time": "2023-08-04T14:54:24.144051",
   "version": "2.4.0"
  }
 },
 "nbformat": 4,
 "nbformat_minor": 5
}
