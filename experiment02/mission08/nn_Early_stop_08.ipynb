{
 "cells": [
  {
   "cell_type": "code",
   "execution_count": 11,
   "metadata": {
    "collapsed": true,
    "ExecuteTime": {
     "start_time": "2023-08-02T10:18:51.622305Z",
     "end_time": "2023-08-02T10:18:51.730842Z"
    }
   },
   "outputs": [],
   "source": [
    "import torch\n",
    "import numpy as np\n",
    "import random\n",
    "from torch.utils.data import  Dataset\n",
    "import matplotlib.pyplot as plt\n",
    "import torchvision\n",
    "import torchvision.transforms as transforms\n",
    "device = torch.device(\"cuda\" if torch.cuda.is_available() else \"cpu\")"
   ]
  },
  {
   "cell_type": "markdown",
   "source": [
    "# 全局变量"
   ],
   "metadata": {
    "collapsed": false
   }
  },
  {
   "cell_type": "code",
   "execution_count": 12,
   "outputs": [],
   "source": [
    "batch_size=512\n",
    "lr  = 0.001\n",
    "epoch_num = 200\n",
    "num_workers=0"
   ],
   "metadata": {
    "collapsed": false,
    "ExecuteTime": {
     "start_time": "2023-08-02T10:18:51.643319Z",
     "end_time": "2023-08-02T10:18:51.794837Z"
    }
   }
  },
  {
   "cell_type": "markdown",
   "source": [
    "# 构造数据集"
   ],
   "metadata": {
    "collapsed": false
   }
  },
  {
   "cell_type": "code",
   "execution_count": 18,
   "outputs": [
    {
     "name": "stdout",
     "output_type": "stream",
     "text": [
      "训练集数量: 60000\n",
      "测试集数量: 10000\n"
     ]
    }
   ],
   "source": [
    "random.seed(42)\n",
    "torch.manual_seed(42)\n",
    "class MultiDataSet(Dataset):\n",
    "    def __init__(self, root, train=True, transform=None, download=True):\n",
    "        self.mnist = torchvision.datasets.MNIST(root=root, train=train, download=download, transform=transform)\n",
    "        self.targets = torch.eye(10)[self.mnist.targets]\n",
    "\n",
    "    def __getitem__(self, index):\n",
    "        image, target = self.mnist[index]\n",
    "        processed_target = self.targets[index]\n",
    "        return image, processed_target, target\n",
    "\n",
    "    def __len__(self):\n",
    "        return len(self.mnist)\n",
    "\n",
    "mnist_train = MultiDataSet(root='E:/毕设文件/DeepLearning/experiment01/Datasets/MNIST', train=True,\n",
    "                                    download=True, transform=transforms.ToTensor())\n",
    "mnist_test = MultiDataSet(root='E:/毕设文件/DeepLearning/experiment01/Datasets/MNIST', train=False,\n",
    "                                   download=True, transform=transforms.ToTensor())\n",
    "train_iter = torch.utils.data.DataLoader(mnist_train, batch_size=batch_size, shuffle=True,\n",
    "                                         num_workers=num_workers)\n",
    "test_iter = torch.utils.data.DataLoader(mnist_test, batch_size=batch_size, shuffle=False,\n",
    "                                        num_workers=num_workers)\n",
    "print(\"训练集数量:\", len(mnist_train))\n",
    "print(\"测试集数量:\", len(mnist_test))"
   ],
   "metadata": {
    "collapsed": false,
    "ExecuteTime": {
     "start_time": "2023-08-02T10:21:09.901903Z",
     "end_time": "2023-08-02T10:21:09.963408Z"
    }
   }
  },
  {
   "cell_type": "markdown",
   "source": [
    "# 定义激活函数 定义网络结构 定义网络初始化参数\n",
    "# 定义损失函数 定义优化器"
   ],
   "metadata": {
    "collapsed": false
   }
  },
  {
   "cell_type": "code",
   "execution_count": 19,
   "outputs": [
    {
     "name": "stdout",
     "output_type": "stream",
     "text": [
      "训练集数量: 48000\n",
      "测试集数量: 12000\n"
     ]
    }
   ],
   "source": [
    "import random\n",
    "\n",
    "class MultiDataSet(Dataset):\n",
    "    def __init__(self, root, train=True, transform=None, download=True, train_ratio=0.8, random_seed=42):\n",
    "        self.mnist = torchvision.datasets.MNIST(root=root, train=True, download=download, transform=transform)\n",
    "        self.targets = torch.eye(10)[self.mnist.targets]\n",
    "\n",
    "        # 设置随机种子\n",
    "        random.seed(random_seed)\n",
    "        torch.manual_seed(random_seed)\n",
    "\n",
    "        # 获取数据集大小\n",
    "        dataset_size = len(self.mnist)\n",
    "\n",
    "        # 计算训练集和测试集的大小\n",
    "        train_size = int(train_ratio * dataset_size)\n",
    "        test_size = dataset_size - train_size\n",
    "\n",
    "        # 根据训练集和测试集的大小划分数据集\n",
    "        if train:\n",
    "            self.mnist, _ = torch.utils.data.random_split(self.mnist, [train_size, test_size])\n",
    "        else:\n",
    "            _, self.mnist = torch.utils.data.random_split(self.mnist, [train_size, test_size])\n",
    "\n",
    "    def __getitem__(self, index):\n",
    "        image, target = self.mnist[index]\n",
    "        processed_target = self.targets[index]\n",
    "        return image, processed_target, target\n",
    "\n",
    "    def __len__(self):\n",
    "        return len(self.mnist)\n",
    "\n",
    "# 定义训练集和测试集的数据加载器\n",
    "batch_size = 64\n",
    "num_workers = 0\n",
    "mnist_train = MultiDataSet(root='E:/毕设文件/DeepLearning/experiment01/Datasets/MNIST', train=True,\n",
    "                           download=True, transform=transforms.ToTensor())\n",
    "mnist_test = MultiDataSet(root='E:/毕设文件/DeepLearning/experiment01/Datasets/MNIST', train=False,\n",
    "                          download=True, transform=transforms.ToTensor())\n",
    "train_iter = torch.utils.data.DataLoader(mnist_train, batch_size=batch_size, shuffle=True, num_workers=num_workers)\n",
    "test_iter = torch.utils.data.DataLoader(mnist_test, batch_size=batch_size, shuffle=False, num_workers=num_workers)\n",
    "\n",
    "print(\"训练集数量:\", len(mnist_train))\n",
    "print(\"测试集数量:\", len(mnist_test))\n"
   ],
   "metadata": {
    "collapsed": false,
    "ExecuteTime": {
     "start_time": "2023-08-02T10:25:17.545032Z",
     "end_time": "2023-08-02T10:25:17.625265Z"
    }
   }
  },
  {
   "cell_type": "markdown",
   "source": [
    "# 定义早停机制"
   ],
   "metadata": {
    "collapsed": false
   }
  },
  {
   "cell_type": "code",
   "execution_count": 15,
   "outputs": [],
   "source": [
    "\n",
    "early_stop_len = 5\n",
    "max = float('inf')\n",
    "t = 0"
   ],
   "metadata": {
    "collapsed": false,
    "ExecuteTime": {
     "start_time": "2023-08-02T10:18:51.803845Z",
     "end_time": "2023-08-02T10:18:51.820740Z"
    }
   }
  },
  {
   "cell_type": "markdown",
   "source": [
    "# 训练与实验早停机制"
   ],
   "metadata": {
    "collapsed": false
   }
  },
  {
   "cell_type": "code",
   "execution_count": 16,
   "outputs": [
    {
     "name": "stdout",
     "output_type": "stream",
     "text": [
      "epoch: 1 \n",
      " train_loss: 2.301938105654973 train_acc: 0.12229082661290322 \n",
      " test_loss: 2.301821418430494 test_acc: 0.11302649456521739\n",
      "epoch: 2 \n",
      " train_loss: 2.3006216531158774 train_acc: 0.12300487231182795 \n",
      " test_loss: 2.3019166303717573 test_acc: 0.14232336956521738\n",
      "epoch: 3 \n",
      " train_loss: 2.299519743970645 train_acc: 0.146484375 \n",
      " test_loss: 2.303163310755854 test_acc: 0.16499660326086957\n",
      "epoch: 4 \n",
      " train_loss: 2.2974924451561383 train_acc: 0.12565104166666666 \n",
      " test_loss: 2.304991628812707 test_acc: 0.09926970108695653\n",
      "epoch: 5 \n",
      " train_loss: 2.2940976209537958 train_acc: 0.11735551075268817 \n",
      " test_loss: 2.304898573004681 test_acc: 0.10003396739130435\n",
      "epoch: 6 \n",
      " train_loss: 2.2897699725243355 train_acc: 0.1127982190860215 \n",
      " test_loss: 2.3089132619940718 test_acc: 0.11353600543478261\n",
      "Early stopping.\n",
      "Training time: 66.78 seconds\n"
     ]
    }
   ],
   "source": [
    "import time\n",
    "\n",
    "train_loss =[]\n",
    "test_loss = []\n",
    "train_acc=[]\n",
    "test_acc= []\n",
    "start_time = time.time()\n",
    "for epoch in range(epoch_num):\n",
    "    loss_list=[]\n",
    "    acc_list=[]\n",
    "    for data in train_iter:\n",
    "        x, y, index =data\n",
    "        if x.shape[0]<batch_size:\n",
    "            continue\n",
    "        y_hat = net(x)\n",
    "        l = loss(y_hat,y)\n",
    "        sgd.zero_grad()\n",
    "        l.backward()\n",
    "        sgd.step()\n",
    "        y_index = torch.argmax(y_hat, dim=1)\n",
    "        loss_list.append(l.item())\n",
    "        acc = 0\n",
    "        for i in range(len(y_index)):\n",
    "            if y_index[i] == index[i]:\n",
    "                acc += 1\n",
    "        acc_list.append(acc/len(y_index))\n",
    "\n",
    "    train_loss_mean = np.mean(loss_list)\n",
    "    train_acc_mean = np.mean(acc_list)\n",
    "    train_loss.append(train_loss_mean)\n",
    "    train_acc.append(train_acc_mean)\n",
    "    loss_list=[]\n",
    "    acc_list=[]\n",
    "    for data in test_iter:\n",
    "        x, y, index =data\n",
    "        if x.shape[0]<batch_size:\n",
    "            continue\n",
    "        y_hat = net(x)\n",
    "        l = loss(y_hat,y)\n",
    "        loss_list.append(l.item())\n",
    "        y_index = torch.argmax(y_hat, dim=1)\n",
    "        acc = 0\n",
    "        for i in range(len(y_index)):\n",
    "            if y_index[i] == index[i]:\n",
    "                acc += 1\n",
    "        acc_list.append(acc/len(y_index))\n",
    "\n",
    "\n",
    "    test_loss_mean = np.mean(loss_list)\n",
    "    test_acc_mean = np.mean(acc_list)\n",
    "    test_loss.append(test_loss_mean)\n",
    "    test_acc.append(test_acc_mean)\n",
    "    print(\"epoch:\",epoch+1,\"\\n\",\n",
    "          \"train_loss:\",train_loss_mean,\"train_acc:\",train_acc_mean,\n",
    "          \"\\n\",\n",
    "          \"test_loss:\",test_loss_mean,\"test_acc:\",test_acc_mean\n",
    "          )\n",
    "    # 早停代码实现 在文档内没有找到相关API，故使用手动实现\n",
    "    if test_loss_mean < max:\n",
    "        max = test_loss_mean\n",
    "        t = 0\n",
    "    else:\n",
    "        t += 1\n",
    "        if t >= early_stop_len:\n",
    "            print('Early stopping.')\n",
    "            break\n",
    "end_time = time.time()\n",
    "training_time = end_time - start_time\n",
    "print(f\"Training time: {training_time:.2f} seconds\")\n"
   ],
   "metadata": {
    "collapsed": false,
    "ExecuteTime": {
     "start_time": "2023-08-02T10:18:51.828738Z",
     "end_time": "2023-08-02T10:19:58.625650Z"
    }
   }
  },
  {
   "cell_type": "markdown",
   "source": [],
   "metadata": {
    "collapsed": false
   }
  },
  {
   "cell_type": "markdown",
   "source": [
    "# 结论评估与数据可视化\n",
    "随着训练的进行，模型在训练集上的损失和准确率都在改善，表明模型在训练数据上得到了优化。\n",
    "在第12个epoch时，验证集上的损失下降到最低值，准确率达到97.55%。之后的几个epoch中，虽然损失和准确率有所波动，但没有显著的改善。\n",
    "在第17个epoch时，验证集上的准确率达到了最高值97.79%，之后准确率有轻微下降。\n",
    "由于在连续5个epoch中准确率没有提高，早停被触发，训练停止。"
   ],
   "metadata": {
    "collapsed": false
   }
  },
  {
   "cell_type": "code",
   "execution_count": 17,
   "outputs": [
    {
     "data": {
      "text/plain": "<Figure size 1000x500 with 2 Axes>",
      "image/png": "[encoded data removed]"
     },
     "metadata": {},
     "output_type": "display_data"
    }
   ],
   "source": [
    "plt.figure(figsize=(10, 5))\n",
    "\n",
    "plt.subplot(1, 2, 1)\n",
    "plt.plot(train_loss, 'b-',label=\"train_loss\")\n",
    "plt.plot(test_loss, 'r-' ,label=\"test_loss\")\n",
    "plt.xlabel('Epoch')\n",
    "plt.ylabel('Loss')\n",
    "plt.title('Loss')\n",
    "plt.legend()\n",
    "plt.subplot(1, 2, 2)\n",
    "plt.plot(train_acc, 'b-',label=\"train_acc\")\n",
    "plt.plot(test_acc, 'r-' ,label=\"test_acc\")\n",
    "plt.xlabel('Epoch')\n",
    "plt.ylabel('Accuracy')\n",
    "plt.title('Accuracy')\n",
    "plt.legend()\n",
    "plt.show()"
   ],
   "metadata": {
    "collapsed": false,
    "ExecuteTime": {
     "start_time": "2023-08-02T10:19:58.629964Z",
     "end_time": "2023-08-02T10:19:59.045778Z"
    }
   }
  }
 ],
 "metadata": {
  "kernelspec": {
   "display_name": "Python 3",
   "language": "python",
   "name": "python3"
  },
  "language_info": {
   "codemirror_mode": {
    "name": "ipython",
    "version": 2
   },
   "file_extension": ".py",
   "mimetype": "text/x-python",
   "name": "python",
   "nbconvert_exporter": "python",
   "pygments_lexer": "ipython2",
   "version": "2.7.6"
  }
 },
 "nbformat": 4,
 "nbformat_minor": 0
}
