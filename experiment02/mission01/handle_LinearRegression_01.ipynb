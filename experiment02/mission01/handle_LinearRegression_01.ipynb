{
 "cells": [
  {
   "cell_type": "markdown",
   "source": [
    "# 引入依赖"
   ],
   "metadata": {
    "collapsed": false
   }
  },
  {
   "cell_type": "code",
   "execution_count": 16,
   "outputs": [],
   "source": [
    "import torch\n",
    "import numpy as np\n",
    "import random\n",
    "from torch.utils.data import  Dataset,random_split,DataLoader\n",
    "import matplotlib.pyplot as plt"
   ],
   "metadata": {
    "collapsed": false,
    "ExecuteTime": {
     "start_time": "2023-08-01T19:18:39.015099Z",
     "end_time": "2023-08-01T19:18:39.063485Z"
    }
   }
  },
  {
   "cell_type": "markdown",
   "source": [
    "# 超参数"
   ],
   "metadata": {
    "collapsed": false
   }
  },
  {
   "cell_type": "code",
   "execution_count": 17,
   "outputs": [],
   "source": [
    "batch_size=512\n",
    "lr  = 0.1\n",
    "epoch_num = 200"
   ],
   "metadata": {
    "collapsed": false,
    "ExecuteTime": {
     "start_time": "2023-08-01T19:18:39.028110Z",
     "end_time": "2023-08-01T19:18:39.095481Z"
    }
   }
  },
  {
   "cell_type": "markdown",
   "source": [
    "# 手动生成回归任务数据集\n",
    "满足条件\n",
    "- 训练集样本数: 7000\n",
    "- 测试集样本数: 3000"
   ],
   "metadata": {
    "collapsed": false
   }
  },
  {
   "cell_type": "code",
   "execution_count": 18,
   "outputs": [
    {
     "name": "stdout",
     "output_type": "stream",
     "text": [
      "训练集样本数: 7000\n",
      "测试集样本数: 3000\n"
     ]
    }
   ],
   "source": [
    "random.seed(42)\n",
    "torch.manual_seed(42)\n",
    "class LinearDataset(Dataset):\n",
    "    def __init__(self):\n",
    "        self.num_sample = 10000\n",
    "        self.num_features = 500\n",
    "        self.X = torch.randn(self.num_sample,self.num_features)\n",
    "        self.true_W = torch.ones(self.num_features,1)\n",
    "        self.Y = 0.028+torch.matmul(self.X,self.true_W)+0.01*torch.randn(self.num_sample, 1)\n",
    "    def __len__(self):\n",
    "        return self.num_sample\n",
    "    def __getitem__(self, index):\n",
    "        return self.X[index],self.Y[index]\n",
    "train_size = 7000\n",
    "test_size = 10000 - train_size\n",
    "dataset = LinearDataset()\n",
    "train_dataset, test_dataset = random_split(dataset, [train_size, test_size])\n",
    "print(\"训练集样本数:\", len(train_dataset))\n",
    "print(\"测试集样本数:\", len(test_dataset))\n",
    "train_loader= DataLoader(train_dataset, batch_size=batch_size, shuffle=True)\n",
    "test_loader=DataLoader(test_dataset, batch_size=batch_size, shuffle=False)"
   ],
   "metadata": {
    "collapsed": false,
    "ExecuteTime": {
     "start_time": "2023-08-01T19:18:39.047482Z",
     "end_time": "2023-08-01T19:18:39.119481Z"
    }
   }
  },
  {
   "cell_type": "markdown",
   "source": [
    "# 定义激活函数 定义网络结构 定义网络初始化参数\n",
    "# 定义损失函数 定义优化器"
   ],
   "metadata": {
    "collapsed": false
   }
  },
  {
   "cell_type": "code",
   "execution_count": 19,
   "outputs": [],
   "source": [
    "inputs = 500\n",
    "hiddens = 128\n",
    "out = 1\n",
    "W_1 = torch.tensor(np.random.normal(0, 0.01, (inputs,hiddens)), dtype=torch.float32)\n",
    "b_1 = torch.zeros(1,dtype=torch.float32)\n",
    "W_2= torch.tensor(np.random.normal(0, 0.01, (hiddens,out)), dtype=torch.float32)\n",
    "b_2 = torch.zeros(1,dtype=torch.float32)\n",
    "parma = [W_1,b_1,W_2,b_2]\n",
    "for  i in parma:\n",
    "    i.requires_grad=True\n",
    "\n",
    "def relu(x):\n",
    "    x = torch.max(x,torch.tensor(0.0))\n",
    "    return x\n",
    "def net(x):\n",
    "\n",
    "    t = relu(torch.matmul(x,W_1)+b_1)\n",
    "    return  torch.matmul(t,W_2)+b_2\n",
    "def mse(x,y):\n",
    "    t = torch.sum((x.view(-1)-y.view(-1))**2)\n",
    "    return t/len(x)\n",
    "\n",
    "def sgd(params, lr, batch_size):\n",
    "    for param in params:\n",
    "        param.data -= lr * param.grad / batch_size\n"
   ],
   "metadata": {
    "collapsed": false,
    "ExecuteTime": {
     "start_time": "2023-08-01T19:18:39.114483Z",
     "end_time": "2023-08-01T19:18:39.164997Z"
    }
   }
  },
  {
   "cell_type": "markdown",
   "source": [
    "# 训练"
   ],
   "metadata": {
    "collapsed": false
   }
  },
  {
   "cell_type": "code",
   "execution_count": 20,
   "outputs": [
    {
     "name": "stdout",
     "output_type": "stream",
     "text": [
      "epoch: 1 train_loss 515.5994219098773 test_loss: 523.4193369547526\n",
      "epoch: 2 train_loss 515.4292079380581 test_loss: 523.3719584147135\n",
      "epoch: 3 train_loss 516.0566820417132 test_loss: 523.3230234781901\n",
      "epoch: 4 train_loss 517.616457257952 test_loss: 523.2711995442709\n",
      "epoch: 5 train_loss 515.0598536900112 test_loss: 523.2146453857422\n",
      "epoch: 6 train_loss 514.4541342599051 test_loss: 523.1520792643229\n",
      "epoch: 7 train_loss 514.8555276053293 test_loss: 523.0822194417318\n",
      "epoch: 8 train_loss 516.0906001499721 test_loss: 523.0027008056641\n",
      "epoch: 9 train_loss 515.715813773019 test_loss: 522.910888671875\n",
      "epoch: 10 train_loss 516.6428963797433 test_loss: 522.8026682535807\n",
      "epoch: 11 train_loss 515.5856432233538 test_loss: 522.6741994222006\n",
      "epoch: 12 train_loss 514.6301356724331 test_loss: 522.5195159912109\n",
      "epoch: 13 train_loss 513.8939732142857 test_loss: 522.3308664957682\n",
      "epoch: 14 train_loss 514.5992104666574 test_loss: 522.0996856689453\n",
      "epoch: 15 train_loss 514.8108716692243 test_loss: 521.8122609456381\n",
      "epoch: 16 train_loss 514.983400617327 test_loss: 521.4494120279948\n",
      "epoch: 17 train_loss 515.0629555838449 test_loss: 520.9869740804037\n",
      "epoch: 18 train_loss 511.7618931361607 test_loss: 520.3978424072266\n",
      "epoch: 19 train_loss 511.763913835798 test_loss: 519.6360524495443\n",
      "epoch: 20 train_loss 511.64811052594865 test_loss: 518.6493835449219\n",
      "epoch: 21 train_loss 511.2836696079799 test_loss: 517.3616841634115\n",
      "epoch: 22 train_loss 509.19122532435824 test_loss: 515.6885426839193\n",
      "epoch: 23 train_loss 506.74991716657365 test_loss: 513.5264129638672\n",
      "epoch: 24 train_loss 504.0602591378348 test_loss: 510.7459462483724\n",
      "epoch: 25 train_loss 501.10472542899 test_loss: 507.1878356933594\n",
      "epoch: 26 train_loss 495.29777090890065 test_loss: 502.7012532552083\n",
      "epoch: 27 train_loss 492.81202697753906 test_loss: 497.0215555826823\n",
      "epoch: 28 train_loss 485.0197208949498 test_loss: 489.93603515625\n",
      "epoch: 29 train_loss 476.491934640067 test_loss: 481.16136678059894\n",
      "epoch: 30 train_loss 467.25593130929127 test_loss: 470.3067372639974\n",
      "epoch: 31 train_loss 454.5769478934152 test_loss: 457.0696716308594\n",
      "epoch: 32 train_loss 439.6551077706473 test_loss: 441.0386912027995\n",
      "epoch: 33 train_loss 421.0393589564732 test_loss: 421.9351755777995\n",
      "epoch: 34 train_loss 399.35110909598217 test_loss: 399.4725748697917\n",
      "epoch: 35 train_loss 375.68106733049666 test_loss: 373.4944305419922\n",
      "epoch: 36 train_loss 346.81503513881137 test_loss: 344.18409220377606\n",
      "epoch: 37 train_loss 314.23975045340404 test_loss: 312.0443369547526\n",
      "epoch: 38 train_loss 280.98312486921037 test_loss: 277.64332580566406\n",
      "epoch: 39 train_loss 245.1623044695173 test_loss: 242.10198465983072\n",
      "epoch: 40 train_loss 209.7024383544922 test_loss: 206.59744771321616\n",
      "epoch: 41 train_loss 174.19520677839006 test_loss: 172.65404256184897\n",
      "epoch: 42 train_loss 141.78334426879883 test_loss: 141.33143615722656\n",
      "epoch: 43 train_loss 112.89293943132672 test_loss: 113.4781723022461\n",
      "epoch: 44 train_loss 88.14652742658343 test_loss: 89.60082117716472\n",
      "epoch: 45 train_loss 67.5944162096296 test_loss: 69.8208179473877\n",
      "epoch: 46 train_loss 51.11584227425711 test_loss: 53.908721923828125\n",
      "epoch: 47 train_loss 38.39211354936872 test_loss: 41.36735534667969\n",
      "epoch: 48 train_loss 28.58552156175886 test_loss: 31.703067143758137\n",
      "epoch: 49 train_loss 21.439704758780344 test_loss: 24.299559275309246\n",
      "epoch: 50 train_loss 16.037559236798966 test_loss: 18.70458920796712\n",
      "epoch: 51 train_loss 12.107950278690883 test_loss: 14.487473964691162\n",
      "epoch: 52 train_loss 9.211088623319354 test_loss: 11.30687141418457\n",
      "epoch: 53 train_loss 7.097167525972639 test_loss: 8.8975780804952\n",
      "epoch: 54 train_loss 5.502358436584473 test_loss: 7.066711823145549\n",
      "epoch: 55 train_loss 4.337047900472369 test_loss: 5.662376483281453\n",
      "epoch: 56 train_loss 3.4281483377729143 test_loss: 4.585592985153198\n",
      "epoch: 57 train_loss 2.7492908239364624 test_loss: 3.751732110977173\n",
      "epoch: 58 train_loss 2.2364284992218018 test_loss: 3.098559021949768\n",
      "epoch: 59 train_loss 1.8319202831813268 test_loss: 2.585393786430359\n",
      "epoch: 60 train_loss 1.5179621151515417 test_loss: 2.178830325603485\n",
      "epoch: 61 train_loss 1.2744603071893965 test_loss: 1.8533963163693745\n",
      "epoch: 62 train_loss 1.0692692484174455 test_loss: 1.5933699409166973\n",
      "epoch: 63 train_loss 0.9102133001599994 test_loss: 1.383682111899058\n",
      "epoch: 64 train_loss 0.7847773262432644 test_loss: 1.213618626197179\n",
      "epoch: 65 train_loss 0.6813963013035911 test_loss: 1.0749928553899128\n",
      "epoch: 66 train_loss 0.5967128659997668 test_loss: 0.961735874414444\n",
      "epoch: 67 train_loss 0.5262827958379473 test_loss: 0.8692745864391327\n",
      "epoch: 68 train_loss 0.4721858096974237 test_loss: 0.7923741092284521\n",
      "epoch: 69 train_loss 0.426091553909438 test_loss: 0.7286590486764908\n",
      "epoch: 70 train_loss 0.38597570466143744 test_loss: 0.6758141070604324\n",
      "epoch: 71 train_loss 0.35386904648372103 test_loss: 0.6315427124500275\n",
      "epoch: 72 train_loss 0.327101360474314 test_loss: 0.5941427946090698\n",
      "epoch: 73 train_loss 0.30506216841084616 test_loss: 0.562693677842617\n",
      "epoch: 74 train_loss 0.284885721547263 test_loss: 0.5360716780026754\n",
      "epoch: 75 train_loss 0.2736620269715786 test_loss: 0.5126413106918335\n",
      "epoch: 76 train_loss 0.2550003645675523 test_loss: 0.4931176503499349\n",
      "epoch: 77 train_loss 0.24545512614505632 test_loss: 0.4760483503341675\n",
      "epoch: 78 train_loss 0.2329200000635215 test_loss: 0.46119925131400424\n",
      "epoch: 79 train_loss 0.22384934340204513 test_loss: 0.4482445642352104\n",
      "epoch: 80 train_loss 0.22214994792427337 test_loss: 0.43666361769040424\n",
      "epoch: 81 train_loss 0.21078224799462728 test_loss: 0.4264284173647563\n",
      "epoch: 82 train_loss 0.20934278038995607 test_loss: 0.4170193076133728\n",
      "epoch: 83 train_loss 0.20279028213449887 test_loss: 0.40894339854518574\n",
      "epoch: 84 train_loss 0.19681755400129727 test_loss: 0.4015849865972996\n",
      "epoch: 85 train_loss 0.1871534852044923 test_loss: 0.39507897943258286\n",
      "epoch: 86 train_loss 0.1844616016106946 test_loss: 0.3888913777967294\n",
      "epoch: 87 train_loss 0.18195654984031404 test_loss: 0.38345998525619507\n",
      "epoch: 88 train_loss 0.17605055442878179 test_loss: 0.37825946013132733\n",
      "epoch: 89 train_loss 0.17162793635257653 test_loss: 0.3736717030405998\n",
      "epoch: 90 train_loss 0.1709434012217181 test_loss: 0.36872880533337593\n",
      "epoch: 91 train_loss 0.17050860981856072 test_loss: 0.364406768232584\n",
      "epoch: 92 train_loss 0.16408063657581806 test_loss: 0.3601066892345746\n",
      "epoch: 93 train_loss 0.16260076793176786 test_loss: 0.3561972640454769\n",
      "epoch: 94 train_loss 0.1589740626513958 test_loss: 0.35258007670442265\n",
      "epoch: 95 train_loss 0.15812915936112404 test_loss: 0.34905271232128143\n",
      "epoch: 96 train_loss 0.15337008450712478 test_loss: 0.3459598657985528\n",
      "epoch: 97 train_loss 0.15177637657948903 test_loss: 0.3426430883506934\n",
      "epoch: 98 train_loss 0.157063540071249 test_loss: 0.3392173945903778\n",
      "epoch: 99 train_loss 0.15033753216266632 test_loss: 0.3361685375372569\n",
      "epoch: 100 train_loss 0.14419177919626236 test_loss: 0.33333944032589596\n",
      "epoch: 101 train_loss 0.15014391019940376 test_loss: 0.33033211529254913\n",
      "epoch: 102 train_loss 0.14147894137672015 test_loss: 0.3277510851621628\n",
      "epoch: 103 train_loss 0.14081395949636186 test_loss: 0.3251853734254837\n",
      "epoch: 104 train_loss 0.13809643951909883 test_loss: 0.32254033039013547\n",
      "epoch: 105 train_loss 0.1396656557917595 test_loss: 0.3199165401359399\n",
      "epoch: 106 train_loss 0.1343564454998289 test_loss: 0.31737208366394043\n",
      "epoch: 107 train_loss 0.13201935482876642 test_loss: 0.3149204117556413\n",
      "epoch: 108 train_loss 0.1315704509615898 test_loss: 0.3125906065106392\n",
      "epoch: 109 train_loss 0.12918901416872228 test_loss: 0.3102196231484413\n",
      "epoch: 110 train_loss 0.12600347931895936 test_loss: 0.3081221679846446\n",
      "epoch: 111 train_loss 0.12626240668552263 test_loss: 0.3057266299923261\n",
      "epoch: 112 train_loss 0.12364093959331512 test_loss: 0.30365099137028057\n",
      "epoch: 113 train_loss 0.12320950467671667 test_loss: 0.30149128784735996\n",
      "epoch: 114 train_loss 0.12034963922841209 test_loss: 0.29954658697048825\n",
      "epoch: 115 train_loss 0.11918880284896918 test_loss: 0.297504547983408\n",
      "epoch: 116 train_loss 0.11896373837121896 test_loss: 0.2952854099373023\n",
      "epoch: 117 train_loss 0.11630359904042312 test_loss: 0.2934071098764737\n",
      "epoch: 118 train_loss 0.1188822194401707 test_loss: 0.291349654396375\n",
      "epoch: 119 train_loss 0.11391600274613925 test_loss: 0.2894288897514343\n",
      "epoch: 120 train_loss 0.11274183860846929 test_loss: 0.2874511939783891\n",
      "epoch: 121 train_loss 0.11544357719165939 test_loss: 0.28556790327032405\n",
      "epoch: 122 train_loss 0.10989412399274963 test_loss: 0.2836303437749545\n",
      "epoch: 123 train_loss 0.11184407557759966 test_loss: 0.28178449471791583\n",
      "epoch: 124 train_loss 0.10910449256854397 test_loss: 0.27993766590952873\n",
      "epoch: 125 train_loss 0.10591444027210985 test_loss: 0.27833520621061325\n",
      "epoch: 126 train_loss 0.10598064719566277 test_loss: 0.27646977951129276\n",
      "epoch: 127 train_loss 0.10341808519193105 test_loss: 0.2749273404479027\n",
      "epoch: 128 train_loss 0.10247674690825599 test_loss: 0.27330683420101803\n",
      "epoch: 129 train_loss 0.10369845825646605 test_loss: 0.27138466015458107\n",
      "epoch: 130 train_loss 0.10401643253862858 test_loss: 0.2696432943145434\n",
      "epoch: 131 train_loss 0.09967004374733993 test_loss: 0.26826566830277443\n",
      "epoch: 132 train_loss 0.09820204307990414 test_loss: 0.2667229175567627\n",
      "epoch: 133 train_loss 0.09788702428340912 test_loss: 0.2649797511597474\n",
      "epoch: 134 train_loss 0.0990789785448994 test_loss: 0.26333316167195636\n",
      "epoch: 135 train_loss 0.0960783673716443 test_loss: 0.26187238469719887\n",
      "epoch: 136 train_loss 0.09479355067014694 test_loss: 0.2604093949000041\n",
      "epoch: 137 train_loss 0.09459546368036952 test_loss: 0.2589186616241932\n",
      "epoch: 138 train_loss 0.09410177277667182 test_loss: 0.2574528728922208\n",
      "epoch: 139 train_loss 0.09364595423851695 test_loss: 0.25585146558781463\n",
      "epoch: 140 train_loss 0.0907265277845519 test_loss: 0.2545783184468746\n",
      "epoch: 141 train_loss 0.09061947092413902 test_loss: 0.25298679309586686\n",
      "epoch: 142 train_loss 0.08805136715195008 test_loss: 0.25184407209356624\n",
      "epoch: 143 train_loss 0.08747862891427108 test_loss: 0.2503686075409253\n",
      "epoch: 144 train_loss 0.08731621370783874 test_loss: 0.24897081404924393\n",
      "epoch: 145 train_loss 0.08579461542623383 test_loss: 0.2478628233075142\n",
      "epoch: 146 train_loss 0.08649044271026339 test_loss: 0.24645481755336127\n",
      "epoch: 147 train_loss 0.08556723594665527 test_loss: 0.24516483768820763\n",
      "epoch: 148 train_loss 0.08636819025767702 test_loss: 0.24365023275216421\n",
      "epoch: 149 train_loss 0.08283722666757447 test_loss: 0.24253176897764206\n",
      "epoch: 150 train_loss 0.08579967782965728 test_loss: 0.24104874456922212\n",
      "epoch: 151 train_loss 0.08086054173431226 test_loss: 0.2398571129888296\n",
      "epoch: 152 train_loss 0.08002836576529912 test_loss: 0.23876755560437837\n",
      "epoch: 153 train_loss 0.08004442176648549 test_loss: 0.23750781454145908\n",
      "epoch: 154 train_loss 0.08068931994161435 test_loss: 0.23630168351034322\n",
      "epoch: 155 train_loss 0.07829480618238449 test_loss: 0.23509433679282665\n",
      "epoch: 156 train_loss 0.07757722865790129 test_loss: 0.23386412796874842\n",
      "epoch: 157 train_loss 0.0771955865036164 test_loss: 0.23274786087373892\n",
      "epoch: 158 train_loss 0.07627589681318828 test_loss: 0.23168679202596346\n",
      "epoch: 159 train_loss 0.07520952421639647 test_loss: 0.23054179487129053\n",
      "epoch: 160 train_loss 0.07496998538928372 test_loss: 0.2295177405079206\n",
      "epoch: 161 train_loss 0.07385680239115443 test_loss: 0.22849706870814165\n",
      "epoch: 162 train_loss 0.07483331047530685 test_loss: 0.227247208977739\n",
      "epoch: 163 train_loss 0.072175140359572 test_loss: 0.2262320506076018\n",
      "epoch: 164 train_loss 0.07357422887746777 test_loss: 0.22515475253264108\n",
      "epoch: 165 train_loss 0.07239679619669914 test_loss: 0.2242942526936531\n",
      "epoch: 166 train_loss 0.07073706188904387 test_loss: 0.22311992508669695\n",
      "epoch: 167 train_loss 0.06956111519996609 test_loss: 0.22222742065787315\n",
      "epoch: 168 train_loss 0.0689800786120551 test_loss: 0.2211852166801691\n",
      "epoch: 169 train_loss 0.06852153143180269 test_loss: 0.22019463032484055\n",
      "epoch: 170 train_loss 0.06840712656932217 test_loss: 0.21923314593732357\n",
      "epoch: 171 train_loss 0.06704250111111573 test_loss: 0.218342966089646\n",
      "epoch: 172 train_loss 0.068049730733037 test_loss: 0.2172772909204165\n",
      "epoch: 173 train_loss 0.0681816435285977 test_loss: 0.2162960320711136\n",
      "epoch: 174 train_loss 0.0686358003211873 test_loss: 0.21531336071590582\n",
      "epoch: 175 train_loss 0.06531236214297158 test_loss: 0.21431595956285796\n",
      "epoch: 176 train_loss 0.06615047622472048 test_loss: 0.2133533532420794\n",
      "epoch: 177 train_loss 0.06392784882336855 test_loss: 0.212516771008571\n",
      "epoch: 178 train_loss 0.06465877299862248 test_loss: 0.21146497937540212\n",
      "epoch: 179 train_loss 0.0626087055674621 test_loss: 0.21072692113618055\n",
      "epoch: 180 train_loss 0.06372758746147156 test_loss: 0.20971179008483887\n",
      "epoch: 181 train_loss 0.06589795343045678 test_loss: 0.20866743847727776\n",
      "epoch: 182 train_loss 0.06327037420123816 test_loss: 0.20776059913138548\n",
      "epoch: 183 train_loss 0.062320697653506486 test_loss: 0.20688156907757124\n",
      "epoch: 184 train_loss 0.06148787681013346 test_loss: 0.2060743346810341\n",
      "epoch: 185 train_loss 0.061497603942240985 test_loss: 0.20524942999084791\n",
      "epoch: 186 train_loss 0.05918390689683812 test_loss: 0.2044751780728499\n",
      "epoch: 187 train_loss 0.05999728012830019 test_loss: 0.20351559855043888\n",
      "epoch: 188 train_loss 0.05811960090483938 test_loss: 0.20281130261719227\n",
      "epoch: 189 train_loss 0.05765349364706448 test_loss: 0.20206390880048275\n",
      "epoch: 190 train_loss 0.05856861200715814 test_loss: 0.20118403000136217\n",
      "epoch: 191 train_loss 0.057067826124174256 test_loss: 0.20035689696669579\n",
      "epoch: 192 train_loss 0.056193679837243896 test_loss: 0.19964999022583166\n",
      "epoch: 193 train_loss 0.05595161353370973 test_loss: 0.19894271343946457\n",
      "epoch: 194 train_loss 0.05608198485736336 test_loss: 0.1980695320914189\n",
      "epoch: 195 train_loss 0.05604508599000318 test_loss: 0.1971971249828736\n",
      "epoch: 196 train_loss 0.056732683176440854 test_loss: 0.1964719189951817\n",
      "epoch: 197 train_loss 0.0551109646580049 test_loss: 0.1957675584902366\n",
      "epoch: 198 train_loss 0.05397291641150202 test_loss: 0.19504951996107897\n",
      "epoch: 199 train_loss 0.053647786911044805 test_loss: 0.19439487593869367\n",
      "epoch: 200 train_loss 0.054622599123311896 test_loss: 0.19352893034617105\n",
      "Training time: 36.85 seconds\n"
     ]
    }
   ],
   "source": [
    "import time\n",
    "\n",
    "train_loss =[]\n",
    "test_loss = []\n",
    "start_time = time.time()\n",
    "for epoch in range(epoch_num):\n",
    "    loss_list=[]\n",
    "    for x,y in train_loader:\n",
    "        y_hat = net(x)\n",
    "        l = mse(y_hat,y)\n",
    "        l.backward()\n",
    "        sgd(parma,lr,batch_size)\n",
    "        for i in parma:\n",
    "            i.grad.data.zero_()\n",
    "        loss_list.append(l.item())\n",
    "\n",
    "    train_mean = np.mean(loss_list)\n",
    "    train_loss.append(train_mean)\n",
    "\n",
    "    loss_list=[]\n",
    "    for x,y in test_loader:\n",
    "        y_hat = net(x)\n",
    "        l = mse(y_hat,y)\n",
    "        # print(l)\n",
    "        loss_list.append(l.item())\n",
    "    test_mean = np.mean(loss_list)\n",
    "    test_loss.append(test_mean)\n",
    "    print(\"epoch:\",epoch+1,\"train_loss\",train_mean,\"test_loss:\",test_mean)\n",
    "end_time = time.time()\n",
    "training_time = end_time - start_time\n",
    "print(f\"Training time: {training_time:.2f} seconds\")"
   ],
   "metadata": {
    "collapsed": false,
    "ExecuteTime": {
     "start_time": "2023-08-01T19:18:39.141998Z",
     "end_time": "2023-08-01T19:19:16.033531Z"
    }
   }
  },
  {
   "cell_type": "markdown",
   "source": [
    "# 模型评估\n",
    "训练用时36.85秒\n",
    "从实验数据可以看出，Loss在每个epoch中逐渐减小，直到达到非常小的值。\n",
    "手动实现的线性回归模型在训练数据上表现良好，Loss逐渐减小，预测精度可能较高。"
   ],
   "metadata": {
    "collapsed": false
   }
  },
  {
   "cell_type": "code",
   "execution_count": 21,
   "outputs": [
    {
     "data": {
      "text/plain": "<Figure size 640x480 with 1 Axes>",
      "image/png": "[encoded data removed]"
     },
     "metadata": {},
     "output_type": "display_data"
    }
   ],
   "source": [
    "\n",
    "plt.plot(train_loss, 'b-',label=\"train_loss\")\n",
    "plt.plot(test_loss, 'r-' ,label=\"test_loss\")\n",
    "plt.xlabel('Epoch')\n",
    "plt.ylabel('Loss')\n",
    "plt.title('Loss')\n",
    "plt.legend()\n",
    "plt.show()"
   ],
   "metadata": {
    "collapsed": false,
    "ExecuteTime": {
     "start_time": "2023-08-01T19:19:16.009473Z",
     "end_time": "2023-08-01T19:19:16.330093Z"
    }
   }
  }
 ],
 "metadata": {
  "kernelspec": {
   "display_name": "Python 3",
   "language": "python",
   "name": "python3"
  },
  "language_info": {
   "codemirror_mode": {
    "name": "ipython",
    "version": 2
   },
   "file_extension": ".py",
   "mimetype": "text/x-python",
   "name": "python",
   "nbconvert_exporter": "python",
   "pygments_lexer": "ipython2",
   "version": "2.7.6"
  }
 },
 "nbformat": 4,
 "nbformat_minor": 0
}
