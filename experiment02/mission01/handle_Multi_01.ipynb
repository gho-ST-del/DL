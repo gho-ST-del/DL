{
 "cells": [
  {
   "cell_type": "markdown",
   "source": [
    "# 导入包"
   ],
   "metadata": {
    "collapsed": false
   }
  },
  {
   "cell_type": "code",
   "execution_count": 1,
   "metadata": {
    "collapsed": true,
    "ExecuteTime": {
     "start_time": "2023-08-01T19:22:41.254953Z",
     "end_time": "2023-08-01T19:22:43.788929Z"
    }
   },
   "outputs": [],
   "source": [
    "import torch\n",
    "import numpy as np\n",
    "import random\n",
    "from torch.utils.data import  Dataset\n",
    "import matplotlib.pyplot as plt\n",
    "import torchvision\n",
    "import torchvision.transforms as transforms"
   ]
  },
  {
   "cell_type": "markdown",
   "source": [
    "# 全局变量"
   ],
   "metadata": {
    "collapsed": false
   }
  },
  {
   "cell_type": "code",
   "execution_count": 2,
   "outputs": [],
   "source": [
    "batch_size=512\n",
    "lr  = 10\n",
    "epoch_num = 20\n",
    "num_workers=0"
   ],
   "metadata": {
    "collapsed": false,
    "ExecuteTime": {
     "start_time": "2023-08-01T19:22:43.791193Z",
     "end_time": "2023-08-01T19:22:43.804203Z"
    }
   }
  },
  {
   "cell_type": "markdown",
   "source": [
    "# 构造数据集"
   ],
   "metadata": {
    "collapsed": false
   }
  },
  {
   "cell_type": "code",
   "execution_count": 3,
   "outputs": [],
   "source": [
    "random.seed(42)\n",
    "torch.manual_seed(42)\n",
    "class MultiDataSet(Dataset):\n",
    "    def __init__(self, root, train=True, transform=None, download=True):\n",
    "        self.mnist = torchvision.datasets.MNIST(root=root, train=train, download=download, transform=transform)\n",
    "        self.targets = torch.eye(10)[self.mnist.targets]\n",
    "\n",
    "    def __getitem__(self, index):\n",
    "        image, target = self.mnist[index]\n",
    "        processed_target = self.targets[index]\n",
    "        return image, processed_target, target\n",
    "\n",
    "    def __len__(self):\n",
    "        return len(self.mnist)\n",
    "\n",
    "mnist_train = MultiDataSet(root='E:/毕设文件/DeepLearning/experiment01/Datasets/MNIST', train=True,\n",
    "                                    download=True, transform=transforms.ToTensor())\n",
    "mnist_test = MultiDataSet(root='E:/毕设文件/DeepLearning/experiment01/Datasets/MNIST', train=False,\n",
    "                                   download=True, transform=transforms.ToTensor())\n",
    "train_iter = torch.utils.data.DataLoader(mnist_train, batch_size=batch_size, shuffle=True,\n",
    "                                         num_workers=num_workers)\n",
    "test_iter = torch.utils.data.DataLoader(mnist_test, batch_size=batch_size, shuffle=False,\n",
    "                                        num_workers=num_workers)"
   ],
   "metadata": {
    "collapsed": false,
    "ExecuteTime": {
     "start_time": "2023-08-01T19:22:43.809203Z",
     "end_time": "2023-08-01T19:22:43.874719Z"
    }
   }
  },
  {
   "cell_type": "markdown",
   "source": [
    "# 定义激活函数 定义网络结构 定义网络初始化参数\n",
    "# 定义损失函数 定义优化器"
   ],
   "metadata": {
    "collapsed": false
   }
  },
  {
   "cell_type": "code",
   "execution_count": 4,
   "outputs": [],
   "source": [
    "inputs = 784\n",
    "hiddens = 256\n",
    "out = 10\n",
    "W_1 = torch.tensor(np.random.normal(0, 0.01, (inputs,hiddens)), dtype=torch.float32)\n",
    "b_1 = torch.zeros(1,dtype=torch.float32)\n",
    "W_2= torch.tensor(np.random.normal(0, 0.01, (hiddens,out)), dtype=torch.float32)\n",
    "b_2 = torch.zeros(1,dtype=torch.float32)\n",
    "parma = [W_1,b_1,W_2,b_2]\n",
    "for  i in parma:\n",
    "    i.requires_grad=True\n",
    "\n",
    "def relu(x):\n",
    "    x = torch.max(x,torch.tensor(0.0))\n",
    "    return x\n",
    "\n",
    "def f_softmax(z):\n",
    "    c = torch.max(z)\n",
    "    exp_a = torch.exp(z - c)  # 溢出对策\n",
    "    sum_exp_a = torch.sum(exp_a)\n",
    "    y = exp_a / sum_exp_a\n",
    "    return y\n",
    "\n",
    "def net(x):\n",
    "    x = x.view(batch_size,-1)\n",
    "    t = relu(torch.matmul(x,W_1)+b_1)\n",
    "    return f_softmax(torch.matmul(t,W_2)+b_2)\n",
    "def cross_entropy(y_hat, y):\n",
    "    log_softmax_out = torch.log(y_hat + 1e-7)  # 添加一个小的常数，避免对数中的零\n",
    "    loss = -torch.sum(y * log_softmax_out) / len(y)\n",
    "    return loss\n",
    "\n",
    "def sgd(params, lr, batch_size):\n",
    "    for param in params:\n",
    "        param.data -= lr * param.grad / batch_size\n"
   ],
   "metadata": {
    "collapsed": false,
    "ExecuteTime": {
     "start_time": "2023-08-01T19:22:43.869724Z",
     "end_time": "2023-08-01T19:22:43.907722Z"
    }
   }
  },
  {
   "cell_type": "markdown",
   "source": [
    "# 训练"
   ],
   "metadata": {
    "collapsed": false
   }
  },
  {
   "cell_type": "code",
   "execution_count": 5,
   "outputs": [
    {
     "name": "stdout",
     "output_type": "stream",
     "text": [
      "epoch: 1 \n",
      " train_loss: 8.49248649727585 train_acc: 0.45923477564102566 \n",
      " test_loss: 8.40076366223787 test_acc: 0.6526521381578947\n",
      "epoch: 2 \n",
      " train_loss: 8.185746910225632 train_acc: 0.6251502403846154 \n",
      " test_loss: 7.882915195665862 test_acc: 0.6748560855263158\n",
      "epoch: 3 \n",
      " train_loss: 7.638003227038261 train_acc: 0.734642094017094 \n",
      " test_loss: 7.410780680807013 test_acc: 0.7924547697368421\n",
      "epoch: 4 \n",
      " train_loss: 7.322086562458266 train_acc: 0.8101462339743589 \n",
      " test_loss: 7.203066549803081 test_acc: 0.8322368421052632\n",
      "epoch: 5 \n",
      " train_loss: 7.170701630095131 train_acc: 0.837623530982906 \n",
      " test_loss: 7.086378724951493 test_acc: 0.8550575657894737\n",
      "epoch: 6 \n",
      " train_loss: 7.077805392762535 train_acc: 0.8529981303418803 \n",
      " test_loss: 7.009248608037045 test_acc: 0.8689350328947368\n",
      "epoch: 7 \n",
      " train_loss: 7.013237998016879 train_acc: 0.8643162393162394 \n",
      " test_loss: 6.954348990791722 test_acc: 0.87890625\n",
      "epoch: 8 \n",
      " train_loss: 6.964796706142589 train_acc: 0.8719784989316239 \n",
      " test_loss: 6.912325708489669 test_acc: 0.8842516447368421\n",
      "epoch: 9 \n",
      " train_loss: 6.92721929305639 train_acc: 0.8778545673076923 \n",
      " test_loss: 6.879922841724596 test_acc: 0.887952302631579\n",
      "epoch: 10 \n",
      " train_loss: 6.896626761835864 train_acc: 0.8812934027777778 \n",
      " test_loss: 6.853491632561934 test_acc: 0.8928865131578947\n",
      "epoch: 11 \n",
      " train_loss: 6.871170887580285 train_acc: 0.8853832799145299 \n",
      " test_loss: 6.8310261023672005 test_acc: 0.8963815789473685\n",
      "epoch: 12 \n",
      " train_loss: 6.849372158702622 train_acc: 0.8881710737179487 \n",
      " test_loss: 6.8111421685469775 test_acc: 0.8981291118421053\n",
      "epoch: 13 \n",
      " train_loss: 6.830493136348887 train_acc: 0.8910089476495726 \n",
      " test_loss: 6.794901195325349 test_acc: 0.8997738486842105\n",
      "epoch: 14 \n",
      " train_loss: 6.813567691379124 train_acc: 0.8934962606837606 \n",
      " test_loss: 6.779478775827508 test_acc: 0.90234375\n",
      "epoch: 15 \n",
      " train_loss: 6.798281408782698 train_acc: 0.8964676816239316 \n",
      " test_loss: 6.766068684427362 test_acc: 0.9033717105263158\n",
      "epoch: 16 \n",
      " train_loss: 6.784364855187571 train_acc: 0.8983540331196581 \n",
      " test_loss: 6.753736546165065 test_acc: 0.905530427631579\n",
      "epoch: 17 \n",
      " train_loss: 6.771554653461163 train_acc: 0.9004407051282052 \n",
      " test_loss: 6.740927997388337 test_acc: 0.9065583881578947\n",
      "epoch: 18 \n",
      " train_loss: 6.759533189300798 train_acc: 0.9021935096153846 \n",
      " test_loss: 6.7303370927509505 test_acc: 0.908203125\n",
      "epoch: 19 \n",
      " train_loss: 6.748304839827057 train_acc: 0.9036458333333334 \n",
      " test_loss: 6.720629867754485 test_acc: 0.9100534539473685\n",
      "epoch: 20 \n",
      " train_loss: 6.738091737796099 train_acc: 0.9052984775641025 \n",
      " test_loss: 6.711207214154695 test_acc: 0.912109375\n",
      "Training time: 262.47 seconds\n"
     ]
    }
   ],
   "source": [
    "import time\n",
    "\n",
    "train_loss =[]\n",
    "test_loss = []\n",
    "train_acc=[]\n",
    "test_acc= []\n",
    "start_time = time.time()\n",
    "for epoch in range(epoch_num):\n",
    "    loss_list=[]\n",
    "    acc_list=[]\n",
    "\n",
    "    for data in train_iter:\n",
    "\n",
    "        x, y, index =data\n",
    "        if x.shape[0]<batch_size:\n",
    "            continue\n",
    "        y_hat = net(x)\n",
    "        l = cross_entropy(y_hat,y)\n",
    "\n",
    "        l.backward()\n",
    "        sgd(parma,lr,batch_size)\n",
    "        for i in parma:\n",
    "            i.grad.data.zero_()\n",
    "        y_index = torch.argmax(y_hat, dim=1)\n",
    "        loss_list.append(l.item())\n",
    "        acc = 0\n",
    "        for i in range(len(y_index)):\n",
    "            if y_index[i] == index[i]:\n",
    "                acc += 1\n",
    "        acc_list.append(acc/len(y_index))\n",
    "\n",
    "    train_loss_mean = np.mean(loss_list)\n",
    "    train_acc_mean = np.mean(acc_list)\n",
    "    train_loss.append(train_loss_mean)\n",
    "    train_acc.append(train_acc_mean)\n",
    "\n",
    "\n",
    "    loss_list=[]\n",
    "    acc_list=[]\n",
    "    for data in test_iter:\n",
    "        x, y, index =data\n",
    "        if x.shape[0]<batch_size:\n",
    "            continue\n",
    "        y_hat = net(x)\n",
    "        l = cross_entropy(y_hat,y)\n",
    "        loss_list.append(l.item())\n",
    "        y_index = torch.argmax(y_hat, dim=1)\n",
    "        acc = 0\n",
    "        for i in range(len(y_index)):\n",
    "            if y_index[i] == index[i]:\n",
    "                acc += 1\n",
    "        acc_list.append(acc/len(y_index))\n",
    "\n",
    "\n",
    "    test_loss_mean = np.mean(loss_list)\n",
    "    test_acc_mean = np.mean(acc_list)\n",
    "    test_loss.append(test_loss_mean)\n",
    "    test_acc.append(test_acc_mean)\n",
    "    print(\"epoch:\",epoch+1,\"\\n\",\n",
    "          \"train_loss:\",train_loss_mean,\"train_acc:\",train_acc_mean,\n",
    "          \"\\n\",\n",
    "          \"test_loss:\",test_loss_mean,\"test_acc:\",test_acc_mean\n",
    "          )\n",
    "end_time = time.time()\n",
    "training_time = end_time - start_time\n",
    "print(f\"Training time: {training_time:.2f} seconds\")"
   ],
   "metadata": {
    "collapsed": false,
    "ExecuteTime": {
     "start_time": "2023-08-01T19:22:43.910722Z",
     "end_time": "2023-08-01T19:27:06.388050Z"
    }
   }
  },
  {
   "cell_type": "markdown",
   "source": [
    "# 模型评估\n",
    "## 训练用时262.47秒\n",
    "模型在测试集上的预测精度表现相当不错，随着训练的进行，预测精度从约51%增加到了约91.0%。\n",
    "模型在训练过程中损失值逐渐减小，从约8.41降低到约6.7。这说明模型在训练数据上逐渐拟合得更好，与预测精的增加一致。此模型拥有较高的可信度。且没有出现过拟合现象模型性能好"
   ],
   "metadata": {
    "collapsed": false
   }
  },
  {
   "cell_type": "code",
   "execution_count": 6,
   "outputs": [
    {
     "data": {
      "text/plain": "<Figure size 1000x500 with 2 Axes>",
      "image/png": "[encoded data removed]"
     },
     "metadata": {},
     "output_type": "display_data"
    }
   ],
   "source": [
    "plt.figure(figsize=(10, 5))\n",
    "\n",
    "plt.subplot(1, 2, 1)\n",
    "plt.plot(train_loss, 'b-',label=\"train_loss\")\n",
    "plt.plot(test_loss, 'r-' ,label=\"test_loss\")\n",
    "plt.xlabel('Epoch')\n",
    "plt.ylabel('Loss')\n",
    "plt.title('Loss')\n",
    "plt.legend()\n",
    "plt.subplot(1, 2, 2)\n",
    "plt.plot(train_acc, 'b-',label=\"train_acc\")\n",
    "plt.plot(test_acc, 'r-' ,label=\"test_acc\")\n",
    "plt.xlabel('Epoch')\n",
    "plt.ylabel('Accuracy')\n",
    "plt.title('Accuracy')\n",
    "plt.legend()\n",
    "plt.show()"
   ],
   "metadata": {
    "collapsed": false,
    "ExecuteTime": {
     "start_time": "2023-08-01T19:27:06.393049Z",
     "end_time": "2023-08-01T19:27:06.831359Z"
    }
   }
  }
 ],
 "metadata": {
  "kernelspec": {
   "display_name": "Python 3",
   "language": "python",
   "name": "python3"
  },
  "language_info": {
   "codemirror_mode": {
    "name": "ipython",
    "version": 2
   },
   "file_extension": ".py",
   "mimetype": "text/x-python",
   "name": "python",
   "nbconvert_exporter": "python",
   "pygments_lexer": "ipython2",
   "version": "2.7.6"
  }
 },
 "nbformat": 4,
 "nbformat_minor": 0
}
