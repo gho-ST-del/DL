{
 "cells": [
  {
   "cell_type": "markdown",
   "source": [
    "# 导入包"
   ],
   "metadata": {
    "collapsed": false
   }
  },
  {
   "cell_type": "code",
   "execution_count": 1,
   "metadata": {
    "collapsed": true,
    "ExecuteTime": {
     "start_time": "2023-08-01T19:34:56.264634Z",
     "end_time": "2023-08-01T19:34:59.170327Z"
    }
   },
   "outputs": [],
   "source": [
    "import torch\n",
    "import numpy as np\n",
    "import random\n",
    "from torch.utils.data import  Dataset\n",
    "import matplotlib.pyplot as plt\n",
    "import torchvision\n",
    "import torchvision.transforms as transforms"
   ]
  },
  {
   "cell_type": "markdown",
   "source": [
    "# 全局变量"
   ],
   "metadata": {
    "collapsed": false
   }
  },
  {
   "cell_type": "code",
   "execution_count": 2,
   "outputs": [],
   "source": [
    "batch_size=512\n",
    "lr  = 1\n",
    "epoch_num = 20\n",
    "num_workers=0"
   ],
   "metadata": {
    "collapsed": false,
    "ExecuteTime": {
     "start_time": "2023-08-01T19:34:59.173391Z",
     "end_time": "2023-08-01T19:34:59.187958Z"
    }
   }
  },
  {
   "cell_type": "markdown",
   "source": [
    "# 构造数据集"
   ],
   "metadata": {
    "collapsed": false
   }
  },
  {
   "cell_type": "code",
   "execution_count": 3,
   "outputs": [],
   "source": [
    "random.seed(42)\n",
    "torch.manual_seed(42)\n",
    "class MultiDataSet(Dataset):\n",
    "    def __init__(self, root, train=True, transform=None, download=True):\n",
    "        self.mnist = torchvision.datasets.MNIST(root=root, train=train, download=download, transform=transform)\n",
    "        self.targets = torch.eye(10)[self.mnist.targets]\n",
    "\n",
    "    def __getitem__(self, index):\n",
    "        image, target = self.mnist[index]\n",
    "        processed_target = self.targets[index]\n",
    "        return image, processed_target, target\n",
    "\n",
    "    def __len__(self):\n",
    "        return len(self.mnist)\n",
    "\n",
    "mnist_train = MultiDataSet(root='E:/毕设文件/DeepLearning/experiment01/Datasets/MNIST', train=True,\n",
    "                                    download=True, transform=transforms.ToTensor())\n",
    "mnist_test = MultiDataSet(root='E:/毕设文件/DeepLearning/experiment01/Datasets/MNIST', train=False,\n",
    "                                   download=True, transform=transforms.ToTensor())\n",
    "train_iter = torch.utils.data.DataLoader(mnist_train, batch_size=batch_size, shuffle=True,\n",
    "                                         num_workers=num_workers)\n",
    "test_iter = torch.utils.data.DataLoader(mnist_test, batch_size=batch_size, shuffle=False,\n",
    "                                        num_workers=num_workers)"
   ],
   "metadata": {
    "collapsed": false,
    "ExecuteTime": {
     "start_time": "2023-08-01T19:34:59.192958Z",
     "end_time": "2023-08-01T19:34:59.251961Z"
    }
   }
  },
  {
   "cell_type": "markdown",
   "source": [
    "# 定义激活函数 定义网络结构 定义网络初始化参数\n",
    "# 定义损失函数 定义优化器"
   ],
   "metadata": {
    "collapsed": false
   }
  },
  {
   "cell_type": "code",
   "execution_count": 4,
   "outputs": [],
   "source": [
    "inputs = 784\n",
    "hiddens = 256\n",
    "out = 10\n",
    "class Net(torch.nn.Module):\n",
    "    def __init__(self):\n",
    "        super().__init__()\n",
    "        self.linear = torch.nn.Linear(inputs,hiddens)\n",
    "        self.relu = torch.nn.ReLU()\n",
    "        self.hidden = torch.nn.Linear(hiddens,out)\n",
    "        self.softmax = torch.nn.Softmax(dim=1)\n",
    "    def forward(self,x):\n",
    "        x = x.view(x.size(0), -1)\n",
    "        t = self.linear(x)\n",
    "        t = self.relu(t)\n",
    "        t = self.hidden(t)\n",
    "        t = self.softmax (t)\n",
    "        return  t\n",
    "net = Net()\n",
    "\n",
    "loss =  torch.nn.CrossEntropyLoss()\n",
    "sgd = torch.optim.SGD(params=net.parameters(),lr=lr)\n",
    "\n"
   ],
   "metadata": {
    "collapsed": false,
    "ExecuteTime": {
     "start_time": "2023-08-01T19:34:59.260965Z",
     "end_time": "2023-08-01T19:34:59.284471Z"
    }
   }
  },
  {
   "cell_type": "code",
   "execution_count": 5,
   "outputs": [
    {
     "name": "stdout",
     "output_type": "stream",
     "text": [
      "epoch: 1 \n",
      " train_loss: 1.8289182644623976 train_acc: 0.7093182425213675 \n",
      " test_loss: 1.6439273671100014 test_acc: 0.8389185855263158\n",
      "epoch: 2 \n",
      " train_loss: 1.639287178332989 train_acc: 0.8361712072649573 \n",
      " test_loss: 1.6227237676319324 test_acc: 0.8493009868421053\n",
      "epoch: 3 \n",
      " train_loss: 1.6249757526267288 train_acc: 0.8450854700854701 \n",
      " test_loss: 1.6150841399243003 test_acc: 0.8526932565789473\n",
      "epoch: 4 \n",
      " train_loss: 1.59767297292367 train_acc: 0.8753171741452992 \n",
      " test_loss: 1.5577665441914608 test_acc: 0.9161184210526315\n",
      "epoch: 5 \n",
      " train_loss: 1.5541000987729456 train_acc: 0.9195045405982906 \n",
      " test_loss: 1.5423743599339534 test_acc: 0.9294819078947368\n",
      "epoch: 6 \n",
      " train_loss: 1.5436025358672836 train_acc: 0.9271834935897436 \n",
      " test_loss: 1.5363575408333225 test_acc: 0.9329769736842105\n",
      "epoch: 7 \n",
      " train_loss: 1.5366104474434485 train_acc: 0.9338274572649573 \n",
      " test_loss: 1.5316137451874583 test_acc: 0.9381167763157895\n",
      "epoch: 8 \n",
      " train_loss: 1.5312396186029809 train_acc: 0.9385516826923077 \n",
      " test_loss: 1.5264012813568115 test_acc: 0.94140625\n",
      "epoch: 9 \n",
      " train_loss: 1.5264250580062213 train_acc: 0.9422743055555556 \n",
      " test_loss: 1.5246489800904925 test_acc: 0.9437705592105263\n",
      "epoch: 10 \n",
      " train_loss: 1.5230362313425438 train_acc: 0.9458633814102564 \n",
      " test_loss: 1.5208282031511005 test_acc: 0.9457236842105263\n",
      "epoch: 11 \n",
      " train_loss: 1.5194461641148624 train_acc: 0.9487847222222222 \n",
      " test_loss: 1.518511552559702 test_acc: 0.9471628289473685\n",
      "epoch: 12 \n",
      " train_loss: 1.5167042984921708 train_acc: 0.9510216346153846 \n",
      " test_loss: 1.515879097737764 test_acc: 0.9502467105263158\n",
      "epoch: 13 \n",
      " train_loss: 1.513641917807424 train_acc: 0.9545105502136753 \n",
      " test_loss: 1.5136354785216481 test_acc: 0.9529194078947368\n",
      "epoch: 14 \n",
      " train_loss: 1.5114725186274602 train_acc: 0.9561965811965812 \n",
      " test_loss: 1.5119400463606183 test_acc: 0.953844572368421\n",
      "epoch: 15 \n",
      " train_loss: 1.5088667839001386 train_acc: 0.9586338141025641 \n",
      " test_loss: 1.5098594991784346 test_acc: 0.9548725328947368\n",
      "epoch: 16 \n",
      " train_loss: 1.506835587004311 train_acc: 0.9599025106837606 \n",
      " test_loss: 1.5084827761901052 test_acc: 0.9568256578947368\n",
      "epoch: 17 \n",
      " train_loss: 1.5049987776666625 train_acc: 0.9625567574786325 \n",
      " test_loss: 1.5077053622195595 test_acc: 0.9583675986842105\n",
      "epoch: 18 \n",
      " train_loss: 1.5032279022738464 train_acc: 0.9636752136752137 \n",
      " test_loss: 1.5051227368806537 test_acc: 0.9603207236842105\n",
      "epoch: 19 \n",
      " train_loss: 1.5014377710146782 train_acc: 0.9655949519230769 \n",
      " test_loss: 1.5037792105423777 test_acc: 0.9619654605263158\n",
      "epoch: 20 \n",
      " train_loss: 1.4998592566221187 train_acc: 0.9671307425213675 \n",
      " test_loss: 1.502259649728474 test_acc: 0.9643297697368421\n",
      "Training time: 225.45 seconds\n"
     ]
    }
   ],
   "source": [
    "import time\n",
    "\n",
    "train_loss =[]\n",
    "test_loss = []\n",
    "train_acc=[]\n",
    "test_acc= []\n",
    "start_time = time.time()\n",
    "for epoch in range(epoch_num):\n",
    "    loss_list=[]\n",
    "    acc_list=[]\n",
    "    for data in train_iter:\n",
    "\n",
    "        x, y, index =data\n",
    "        if x.shape[0]<batch_size:\n",
    "            continue\n",
    "        y_hat = net(x)\n",
    "        l = loss(y_hat,y)\n",
    "        sgd.zero_grad()\n",
    "        l.backward()\n",
    "        sgd.step()\n",
    "        y_index = torch.argmax(y_hat, dim=1)\n",
    "        loss_list.append(l.item())\n",
    "        acc = 0\n",
    "        for i in range(len(y_index)):\n",
    "            if y_index[i] == index[i]:\n",
    "                acc += 1\n",
    "        acc_list.append(acc/len(y_index))\n",
    "\n",
    "    train_loss_mean = np.mean(loss_list)\n",
    "    train_acc_mean = np.mean(acc_list)\n",
    "    train_loss.append(train_loss_mean)\n",
    "    train_acc.append(train_acc_mean)\n",
    "    loss_list=[]\n",
    "    acc_list=[]\n",
    "    for data in test_iter:\n",
    "        x, y, index =data\n",
    "        if x.shape[0]<batch_size:\n",
    "            continue\n",
    "        y_hat = net(x)\n",
    "        l = loss(y_hat,y)\n",
    "        loss_list.append(l.item())\n",
    "        y_index = torch.argmax(y_hat, dim=1)\n",
    "        acc = 0\n",
    "        for i in range(len(y_index)):\n",
    "            if y_index[i] == index[i]:\n",
    "                acc += 1\n",
    "        acc_list.append(acc/len(y_index))\n",
    "\n",
    "\n",
    "    test_loss_mean = np.mean(loss_list)\n",
    "    test_acc_mean = np.mean(acc_list)\n",
    "    test_loss.append(test_loss_mean)\n",
    "    test_acc.append(test_acc_mean)\n",
    "    print(\"epoch:\",epoch+1,\"\\n\",\n",
    "          \"train_loss:\",train_loss_mean,\"train_acc:\",train_acc_mean,\n",
    "          \"\\n\",\n",
    "          \"test_loss:\",test_loss_mean,\"test_acc:\",test_acc_mean\n",
    "          )\n",
    "end_time = time.time()\n",
    "training_time = end_time - start_time\n",
    "print(f\"Training time: {training_time:.2f} seconds\")"
   ],
   "metadata": {
    "collapsed": false,
    "ExecuteTime": {
     "start_time": "2023-08-01T19:34:59.292492Z",
     "end_time": "2023-08-01T19:38:44.746975Z"
    }
   }
  },
  {
   "cell_type": "markdown",
   "source": [
    "# 训练"
   ],
   "metadata": {
    "collapsed": false
   }
  },
  {
   "cell_type": "markdown",
   "source": [],
   "metadata": {
    "collapsed": false
   }
  },
  {
   "cell_type": "markdown",
   "source": [
    "# 模型评估\n",
    "训练用时225，45秒\n",
    "实验结果中提供了准确率（acc）的数值，对于epoch 1，准确率约为 83.89%，而对于epoch 20，准确率提高到约为 96.43%。\n",
    "根据实验结果，我们可以看到损失（loss）在每个epoch中都在减小，从初始值约为1.64逐渐减小到约为1.50（约为epoch 20时的值）。这显示了模型在训练数据上的逐渐优化。"
   ],
   "metadata": {
    "collapsed": false
   }
  },
  {
   "cell_type": "code",
   "execution_count": 7,
   "outputs": [
    {
     "data": {
      "text/plain": "<Figure size 1000x500 with 2 Axes>",
      "image/png": "[encoded data removed]"
     },
     "metadata": {},
     "output_type": "display_data"
    }
   ],
   "source": [
    "plt.figure(figsize=(10, 5))\n",
    "\n",
    "plt.subplot(1, 2, 1)\n",
    "plt.plot(train_loss, 'b-',label=\"train_loss\")\n",
    "plt.plot(test_loss, 'r-' ,label=\"test_loss\")\n",
    "plt.xlabel('Epoch')\n",
    "plt.ylabel('Loss')\n",
    "plt.title('Loss')\n",
    "plt.legend()\n",
    "plt.subplot(1, 2, 2)\n",
    "plt.plot(train_acc, 'b-',label=\"train_acc\")\n",
    "plt.plot(test_acc, 'r-' ,label=\"test_acc\")\n",
    "plt.xlabel('Epoch')\n",
    "plt.ylabel('Accuracy')\n",
    "plt.title('Accuracy')\n",
    "plt.legend()\n",
    "plt.show()"
   ],
   "metadata": {
    "collapsed": false,
    "ExecuteTime": {
     "start_time": "2023-08-01T19:39:07.957684Z",
     "end_time": "2023-08-01T19:39:08.249888Z"
    }
   }
  }
 ],
 "metadata": {
  "kernelspec": {
   "display_name": "Python 3",
   "language": "python",
   "name": "python3"
  },
  "language_info": {
   "codemirror_mode": {
    "name": "ipython",
    "version": 2
   },
   "file_extension": ".py",
   "mimetype": "text/x-python",
   "name": "python",
   "nbconvert_exporter": "python",
   "pygments_lexer": "ipython2",
   "version": "2.7.6"
  }
 },
 "nbformat": 4,
 "nbformat_minor": 0
}
