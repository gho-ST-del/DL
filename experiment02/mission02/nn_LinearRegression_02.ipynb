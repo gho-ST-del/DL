{
 "cells": [
  {
   "cell_type": "markdown",
   "source": [
    "# 引入依赖"
   ],
   "metadata": {
    "collapsed": false
   }
  },
  {
   "cell_type": "code",
   "execution_count": 1,
   "outputs": [],
   "source": [
    "import torch\n",
    "import numpy as np\n",
    "import random\n",
    "from torch.utils.data import  Dataset,random_split,DataLoader\n",
    "import matplotlib.pyplot as plt"
   ],
   "metadata": {
    "collapsed": false,
    "ExecuteTime": {
     "start_time": "2023-08-01T19:31:16.265371Z",
     "end_time": "2023-08-01T19:31:19.012321Z"
    }
   }
  },
  {
   "cell_type": "markdown",
   "source": [
    "# 超参数"
   ],
   "metadata": {
    "collapsed": false
   }
  },
  {
   "cell_type": "code",
   "execution_count": 2,
   "outputs": [],
   "source": [
    "batch_size=1000\n",
    "lr  = 0.01\n",
    "epoch_num = 200"
   ],
   "metadata": {
    "collapsed": false,
    "ExecuteTime": {
     "start_time": "2023-08-01T19:31:19.012321Z",
     "end_time": "2023-08-01T19:31:19.027486Z"
    }
   }
  },
  {
   "cell_type": "markdown",
   "source": [
    "# 手动生成回归任务数据集\n",
    "满足条件\n",
    "- 训练集样本数: 7000\n",
    "- 测试集样本数: 3000"
   ],
   "metadata": {
    "collapsed": false
   }
  },
  {
   "cell_type": "code",
   "execution_count": 3,
   "outputs": [
    {
     "name": "stdout",
     "output_type": "stream",
     "text": [
      "训练集样本数: 7000\n",
      "测试集样本数: 3000\n"
     ]
    }
   ],
   "source": [
    "random.seed(42)\n",
    "torch.manual_seed(42)\n",
    "class LinearDataset(Dataset):\n",
    "    def __init__(self):\n",
    "        self.num_sample = 10000\n",
    "        self.num_features = 500\n",
    "        self.X = torch.randn(self.num_sample,self.num_features)\n",
    "        self.true_W = torch.ones(self.num_features,1)\n",
    "        self.Y = 0.028+torch.matmul(self.X,self.true_W)+0.01*torch.randn(self.num_sample, 1)\n",
    "    def __len__(self):\n",
    "        return self.num_sample\n",
    "    def __getitem__(self, index):\n",
    "        return self.X[index],self.Y[index]\n",
    "train_size = 7000\n",
    "test_size = 10000 - train_size\n",
    "dataset = LinearDataset()\n",
    "train_dataset, test_dataset = random_split(dataset, [train_size, test_size])\n",
    "print(\"训练集样本数:\", len(train_dataset))\n",
    "print(\"测试集样本数:\", len(test_dataset))\n",
    "train_loader= DataLoader(train_dataset, batch_size=batch_size, shuffle=True)\n",
    "test_loader=DataLoader(test_dataset, batch_size=batch_size, shuffle=False)"
   ],
   "metadata": {
    "collapsed": false,
    "ExecuteTime": {
     "start_time": "2023-08-01T19:31:19.029486Z",
     "end_time": "2023-08-01T19:31:19.089009Z"
    }
   }
  },
  {
   "cell_type": "markdown",
   "source": [
    "# 定义激活函数 定义网络结构 定义网络初始化参数\n",
    "# 定义损失函数 定义优化器"
   ],
   "metadata": {
    "collapsed": false
   }
  },
  {
   "cell_type": "code",
   "execution_count": 4,
   "outputs": [],
   "source": [
    "inputs = 500\n",
    "hiddens = 256\n",
    "out = 1\n",
    "\n",
    "class Net(torch.nn.Module):\n",
    "    def __init__(self):\n",
    "        super().__init__()\n",
    "        self.linear = torch.nn.Linear(inputs,hiddens)\n",
    "        self.relu = torch.nn.ReLU()\n",
    "        self.hidden = torch.nn.Linear(hiddens,out)\n",
    "    def forward(self,x):\n",
    "        t = self.linear(x)\n",
    "        t = self.relu(t)\n",
    "        t = self.hidden(t)\n",
    "        return  t\n",
    "net = Net()\n",
    "loss =  torch.nn.MSELoss()\n",
    "sgd = torch.optim.Adam(params=net.parameters(),lr=lr)\n"
   ],
   "metadata": {
    "collapsed": false,
    "ExecuteTime": {
     "start_time": "2023-08-01T19:31:19.094006Z",
     "end_time": "2023-08-01T19:31:19.166013Z"
    }
   }
  },
  {
   "cell_type": "markdown",
   "source": [
    "# 训练"
   ],
   "metadata": {
    "collapsed": false
   }
  },
  {
   "cell_type": "code",
   "execution_count": 5,
   "outputs": [
    {
     "name": "stdout",
     "output_type": "stream",
     "text": [
      "epoch: 1 train_loss 371.77642822265625 test_loss: 117.7508036295573\n",
      "epoch: 2 train_loss 55.43754114423479 test_loss: 67.47996012369792\n",
      "epoch: 3 train_loss 35.4861045564924 test_loss: 15.0912504196167\n",
      "epoch: 4 train_loss 27.204181126185826 test_loss: 13.755029678344727\n",
      "epoch: 5 train_loss 7.81165565763201 test_loss: 8.558846791585287\n",
      "epoch: 6 train_loss 6.84157259123666 test_loss: 2.0113327900568643\n",
      "epoch: 7 train_loss 3.2712444918496266 test_loss: 2.4678534666697183\n",
      "epoch: 8 train_loss 1.44356997523989 test_loss: 1.2490767637888591\n",
      "epoch: 9 train_loss 1.023961671761104 test_loss: 0.5393105546633402\n",
      "epoch: 10 train_loss 0.5704039803573063 test_loss: 0.4445193111896515\n",
      "epoch: 11 train_loss 0.3055435972554343 test_loss: 0.2844674388567607\n",
      "epoch: 12 train_loss 0.2135856066431318 test_loss: 0.1940716157356898\n",
      "epoch: 13 train_loss 0.14033328954662597 test_loss: 0.146505539615949\n",
      "epoch: 14 train_loss 0.09160542168787547 test_loss: 0.1372076819340388\n",
      "epoch: 15 train_loss 0.06384707135813576 test_loss: 0.12568280845880508\n",
      "epoch: 16 train_loss 0.047508589923381805 test_loss: 0.10866301258405049\n",
      "epoch: 17 train_loss 0.03912768512964249 test_loss: 0.09929437935352325\n",
      "epoch: 18 train_loss 0.03128431737422943 test_loss: 0.09134417275587718\n",
      "epoch: 19 train_loss 0.02629385968404157 test_loss: 0.0884789228439331\n",
      "epoch: 20 train_loss 0.02263928470867021 test_loss: 0.08570297807455063\n",
      "epoch: 21 train_loss 0.019758978326405798 test_loss: 0.08307984968026479\n",
      "epoch: 22 train_loss 0.017601318258259977 test_loss: 0.08003842085599899\n",
      "epoch: 23 train_loss 0.015733029693365097 test_loss: 0.07905385394891103\n",
      "epoch: 24 train_loss 0.014080655228878771 test_loss: 0.07642460366090138\n",
      "epoch: 25 train_loss 0.012929933544780527 test_loss: 0.07487205664316814\n",
      "epoch: 26 train_loss 0.012089679815939494 test_loss: 0.07356491436560948\n",
      "epoch: 27 train_loss 0.010942558491868632 test_loss: 0.07162425915400188\n",
      "epoch: 28 train_loss 0.010057717295629638 test_loss: 0.07009187589089076\n",
      "epoch: 29 train_loss 0.009134476139609302 test_loss: 0.06930738935867946\n",
      "epoch: 30 train_loss 0.008422402598495995 test_loss: 0.0677499125401179\n",
      "epoch: 31 train_loss 0.007758351442004953 test_loss: 0.0664559155702591\n",
      "epoch: 32 train_loss 0.0072762395388313705 test_loss: 0.06551316132148106\n",
      "epoch: 33 train_loss 0.006760389211454562 test_loss: 0.06456622605522473\n",
      "epoch: 34 train_loss 0.006353849877736398 test_loss: 0.06345938642819722\n",
      "epoch: 35 train_loss 0.00583042749868972 test_loss: 0.06273021424810092\n",
      "epoch: 36 train_loss 0.005503320334745305 test_loss: 0.06234010557333628\n",
      "epoch: 37 train_loss 0.00514662272429892 test_loss: 0.06068560356895129\n",
      "epoch: 38 train_loss 0.0048266916003610405 test_loss: 0.060694970190525055\n",
      "epoch: 39 train_loss 0.004596218167405043 test_loss: 0.05976112435261408\n",
      "epoch: 40 train_loss 0.004276729854089873 test_loss: 0.05913799628615379\n",
      "epoch: 41 train_loss 0.004100462488297906 test_loss: 0.058647564301888146\n",
      "epoch: 42 train_loss 0.0038384948524513413 test_loss: 0.057743621369202934\n",
      "epoch: 43 train_loss 0.003655234684369394 test_loss: 0.05724340428908666\n",
      "epoch: 44 train_loss 0.0034116401470133235 test_loss: 0.05708273872733116\n",
      "epoch: 45 train_loss 0.0032278975538377252 test_loss: 0.056155748665332794\n",
      "epoch: 46 train_loss 0.0030826210443462643 test_loss: 0.055944097538789116\n",
      "epoch: 47 train_loss 0.0028970303080443826 test_loss: 0.05565908302863439\n",
      "epoch: 48 train_loss 0.0027966719852494343 test_loss: 0.054867775489886604\n",
      "epoch: 49 train_loss 0.0026785167532839944 test_loss: 0.054796802500883736\n",
      "epoch: 50 train_loss 0.002530311666695135 test_loss: 0.054330550134181976\n",
      "epoch: 51 train_loss 0.002422360420626189 test_loss: 0.053829871118068695\n",
      "epoch: 52 train_loss 0.002331887704453298 test_loss: 0.05351870134472847\n",
      "epoch: 53 train_loss 0.0021954235853627324 test_loss: 0.0531494195262591\n",
      "epoch: 54 train_loss 0.0021168947818556 test_loss: 0.05285987630486488\n",
      "epoch: 55 train_loss 0.0020255293929949403 test_loss: 0.0528534489373366\n",
      "epoch: 56 train_loss 0.0019887329378564444 test_loss: 0.052207247664531074\n",
      "epoch: 57 train_loss 0.0018661062266411526 test_loss: 0.052049348751703896\n",
      "epoch: 58 train_loss 0.0017845970578491688 test_loss: 0.05191666508714358\n",
      "epoch: 59 train_loss 0.0017085495637729764 test_loss: 0.05150670309861501\n",
      "epoch: 60 train_loss 0.0016778585767107351 test_loss: 0.051133388032515846\n",
      "epoch: 61 train_loss 0.0015917274369192974 test_loss: 0.05117617299159368\n",
      "epoch: 62 train_loss 0.0015503355701054846 test_loss: 0.05104134976863861\n",
      "epoch: 63 train_loss 0.0015255791700578161 test_loss: 0.050375521183013916\n",
      "epoch: 64 train_loss 0.0014394863641687802 test_loss: 0.050420032193263374\n",
      "epoch: 65 train_loss 0.0014355610723474196 test_loss: 0.050241414457559586\n",
      "epoch: 66 train_loss 0.0013550872847970044 test_loss: 0.05013885100682577\n",
      "epoch: 67 train_loss 0.0013336782742823874 test_loss: 0.04978961249192556\n",
      "epoch: 68 train_loss 0.0013376427814364433 test_loss: 0.049749777962764107\n",
      "epoch: 69 train_loss 0.0012471940967121295 test_loss: 0.04956954841812452\n",
      "epoch: 70 train_loss 0.0012294442027008959 test_loss: 0.04958461597561836\n",
      "epoch: 71 train_loss 0.0011923350975848734 test_loss: 0.0489740918080012\n",
      "epoch: 72 train_loss 0.0012025113350578717 test_loss: 0.049241440991560616\n",
      "epoch: 73 train_loss 0.0011225392809137702 test_loss: 0.04882662619153658\n",
      "epoch: 74 train_loss 0.0011014979183008628 test_loss: 0.04882631078362465\n",
      "epoch: 75 train_loss 0.0010557810726043368 test_loss: 0.04868925487001737\n",
      "epoch: 76 train_loss 0.0010121952925276542 test_loss: 0.048574806501468025\n",
      "epoch: 77 train_loss 0.0009756710496731102 test_loss: 0.04841970776518186\n",
      "epoch: 78 train_loss 0.0009509858542254993 test_loss: 0.04842264577746391\n",
      "epoch: 79 train_loss 0.0009263886105535286 test_loss: 0.04809638112783432\n",
      "epoch: 80 train_loss 0.000903629173990339 test_loss: 0.04807749266425768\n",
      "epoch: 81 train_loss 0.0008969160761418087 test_loss: 0.04801970720291138\n",
      "epoch: 82 train_loss 0.0008898675275434341 test_loss: 0.04786379635334015\n",
      "epoch: 83 train_loss 0.0008786816781918917 test_loss: 0.04801452780763308\n",
      "epoch: 84 train_loss 0.000860408938024193 test_loss: 0.047543040166298546\n",
      "epoch: 85 train_loss 0.0008374354469456843 test_loss: 0.047566099713246025\n",
      "epoch: 86 train_loss 0.0008074948730479394 test_loss: 0.047454909731944404\n",
      "epoch: 87 train_loss 0.0007841585902497172 test_loss: 0.047620015839735665\n",
      "epoch: 88 train_loss 0.0007635359236571405 test_loss: 0.047190725803375244\n",
      "epoch: 89 train_loss 0.0007540577623460974 test_loss: 0.047111945847670235\n",
      "epoch: 90 train_loss 0.0007265924692286976 test_loss: 0.04724834735194842\n",
      "epoch: 91 train_loss 0.0007195112993940711 test_loss: 0.04702054336667061\n",
      "epoch: 92 train_loss 0.0007171534899888295 test_loss: 0.046917177736759186\n",
      "epoch: 93 train_loss 0.0007146264210210315 test_loss: 0.04687932754556338\n",
      "epoch: 94 train_loss 0.0007195994174773139 test_loss: 0.04697024573882421\n",
      "epoch: 95 train_loss 0.000715171469242445 test_loss: 0.04686377321680387\n",
      "epoch: 96 train_loss 0.0007243213393459362 test_loss: 0.04648216441273689\n",
      "epoch: 97 train_loss 0.0006797063397243619 test_loss: 0.04670997088154157\n",
      "epoch: 98 train_loss 0.0006851140808846269 test_loss: 0.04645212863882383\n",
      "epoch: 99 train_loss 0.0006878290857587542 test_loss: 0.046689994633197784\n",
      "epoch: 100 train_loss 0.0006816968421584793 test_loss: 0.0462094247341156\n",
      "epoch: 101 train_loss 0.0006534157270964767 test_loss: 0.046577836076418556\n",
      "epoch: 102 train_loss 0.00067592689135511 test_loss: 0.0462868499259154\n",
      "epoch: 103 train_loss 0.0006877246528996953 test_loss: 0.04642559836308161\n",
      "epoch: 104 train_loss 0.000676917951620583 test_loss: 0.04599194104472796\n",
      "epoch: 105 train_loss 0.0006832192219527704 test_loss: 0.046287971238295235\n",
      "epoch: 106 train_loss 0.0007061298820190132 test_loss: 0.04631257802248001\n",
      "epoch: 107 train_loss 0.0007071226303066526 test_loss: 0.04613898694515228\n",
      "epoch: 108 train_loss 0.0007139487591172967 test_loss: 0.04607350875933965\n",
      "epoch: 109 train_loss 0.0006830873400239008 test_loss: 0.046129816522200905\n",
      "epoch: 110 train_loss 0.000661361139334206 test_loss: 0.046042878180742264\n",
      "epoch: 111 train_loss 0.0006552819977514446 test_loss: 0.04602802048126856\n",
      "epoch: 112 train_loss 0.000664448257469173 test_loss: 0.04562016452352206\n",
      "epoch: 113 train_loss 0.0006476484122686088 test_loss: 0.04593507076303164\n",
      "epoch: 114 train_loss 0.0006423928259339716 test_loss: 0.04580299307902654\n",
      "epoch: 115 train_loss 0.0006441678186612469 test_loss: 0.04607917740941048\n",
      "epoch: 116 train_loss 0.0006736603183006602 test_loss: 0.0454629585146904\n",
      "epoch: 117 train_loss 0.0006993591918476991 test_loss: 0.04588847731550535\n",
      "epoch: 118 train_loss 0.000727031280153564 test_loss: 0.04564130678772926\n",
      "epoch: 119 train_loss 0.0007345795997285417 test_loss: 0.04572679102420807\n",
      "epoch: 120 train_loss 0.0007172530001428511 test_loss: 0.045679811388254166\n",
      "epoch: 121 train_loss 0.0007448743895760604 test_loss: 0.045739096899827324\n",
      "epoch: 122 train_loss 0.0007517119437190038 test_loss: 0.04541111489137014\n",
      "epoch: 123 train_loss 0.000776818928508354 test_loss: 0.045799786845842995\n",
      "epoch: 124 train_loss 0.0007867127590413604 test_loss: 0.04554146652420362\n",
      "epoch: 125 train_loss 0.0007907532937159496 test_loss: 0.045635540038347244\n",
      "epoch: 126 train_loss 0.0007959434546397201 test_loss: 0.04542797307173411\n",
      "epoch: 127 train_loss 0.0008229637335586761 test_loss: 0.04560701549053192\n",
      "epoch: 128 train_loss 0.0008470458893238433 test_loss: 0.045538369566202164\n",
      "epoch: 129 train_loss 0.0008542603879634823 test_loss: 0.04567758863170942\n",
      "epoch: 130 train_loss 0.0008897135017572769 test_loss: 0.04554544513424238\n",
      "epoch: 131 train_loss 0.0009265778187130179 test_loss: 0.04549717158079147\n",
      "epoch: 132 train_loss 0.0009513615846766957 test_loss: 0.045920820285876594\n",
      "epoch: 133 train_loss 0.000966965062876365 test_loss: 0.04519464944799741\n",
      "epoch: 134 train_loss 0.0009830361564776727 test_loss: 0.046034276485443115\n",
      "epoch: 135 train_loss 0.0010343828887146498 test_loss: 0.04519898320237795\n",
      "epoch: 136 train_loss 0.00107382916446243 test_loss: 0.04613406832019488\n",
      "epoch: 137 train_loss 0.0010807025828398764 test_loss: 0.044997302194436394\n",
      "epoch: 138 train_loss 0.0011173116841486522 test_loss: 0.04591781025131544\n",
      "epoch: 139 train_loss 0.0011922461313328572 test_loss: 0.0455742192765077\n",
      "epoch: 140 train_loss 0.0013392477662169508 test_loss: 0.046194352209568024\n",
      "epoch: 141 train_loss 0.0014042001151080643 test_loss: 0.04593797152241071\n",
      "epoch: 142 train_loss 0.0014511487346940807 test_loss: 0.045707116524378456\n",
      "epoch: 143 train_loss 0.0014241680536153062 test_loss: 0.04589285577336947\n",
      "epoch: 144 train_loss 0.0015494059937606966 test_loss: 0.04611944407224655\n",
      "epoch: 145 train_loss 0.0016376401430794171 test_loss: 0.04581166928013166\n",
      "epoch: 146 train_loss 0.0017185639922640153 test_loss: 0.04630558689435323\n",
      "epoch: 147 train_loss 0.0017681736665378725 test_loss: 0.04576805979013443\n",
      "epoch: 148 train_loss 0.0018363927457747714 test_loss: 0.046215505649646126\n",
      "epoch: 149 train_loss 0.001967204535113914 test_loss: 0.04573845242460569\n",
      "epoch: 150 train_loss 0.0020691139922876444 test_loss: 0.046571084608634315\n",
      "epoch: 151 train_loss 0.002258615751218583 test_loss: 0.04620035116871198\n",
      "epoch: 152 train_loss 0.0026391386054456234 test_loss: 0.04677870372931162\n",
      "epoch: 153 train_loss 0.002727703790047339 test_loss: 0.04663849622011185\n",
      "epoch: 154 train_loss 0.003101908801389592 test_loss: 0.04733881478508314\n",
      "epoch: 155 train_loss 0.003399806230195931 test_loss: 0.04705595597624779\n",
      "epoch: 156 train_loss 0.0037667155598423313 test_loss: 0.048298709094524384\n",
      "epoch: 157 train_loss 0.003971371566876769 test_loss: 0.0480814166367054\n",
      "epoch: 158 train_loss 0.004593955618994576 test_loss: 0.04854414736231168\n",
      "epoch: 159 train_loss 0.0051548729783722335 test_loss: 0.049419994155565895\n",
      "epoch: 160 train_loss 0.0055589987231152395 test_loss: 0.04886179914077123\n",
      "epoch: 161 train_loss 0.006161876688046115 test_loss: 0.05153194318215052\n",
      "epoch: 162 train_loss 0.006801805126347712 test_loss: 0.05086450402935346\n",
      "epoch: 163 train_loss 0.007295098687921252 test_loss: 0.05170442412296931\n",
      "epoch: 164 train_loss 0.007733259948768786 test_loss: 0.05108630657196045\n",
      "epoch: 165 train_loss 0.00826270505785942 test_loss: 0.05195286373297373\n",
      "epoch: 166 train_loss 0.008769161333995206 test_loss: 0.052330382168293\n",
      "epoch: 167 train_loss 0.010234920041901725 test_loss: 0.054812820007403694\n",
      "epoch: 168 train_loss 0.01118556729384831 test_loss: 0.05470625186959902\n",
      "epoch: 169 train_loss 0.012027137114533357 test_loss: 0.05654812231659889\n",
      "epoch: 170 train_loss 0.013222332245537214 test_loss: 0.0560245489080747\n",
      "epoch: 171 train_loss 0.014739474946899074 test_loss: 0.05940952772895495\n",
      "epoch: 172 train_loss 0.017055286094546318 test_loss: 0.06313299511869748\n",
      "epoch: 173 train_loss 0.020700492230909213 test_loss: 0.06703224529822667\n",
      "epoch: 174 train_loss 0.023294956290296147 test_loss: 0.06678881744543712\n",
      "epoch: 175 train_loss 0.02829484348850591 test_loss: 0.0747077042857806\n",
      "epoch: 176 train_loss 0.03461076319217682 test_loss: 0.08243324359258015\n",
      "epoch: 177 train_loss 0.04116720599787576 test_loss: 0.08510333547989528\n",
      "epoch: 178 train_loss 0.04585007045950208 test_loss: 0.09132303545872371\n",
      "epoch: 179 train_loss 0.05227085149713925 test_loss: 0.10066923250754674\n",
      "epoch: 180 train_loss 0.060260982917887826 test_loss: 0.10523017744223277\n",
      "epoch: 181 train_loss 0.06915794206517083 test_loss: 0.1178884506225586\n",
      "epoch: 182 train_loss 0.07768449932336807 test_loss: 0.1284564882516861\n",
      "epoch: 183 train_loss 0.09287287614175252 test_loss: 0.13757007320721945\n",
      "epoch: 184 train_loss 0.10444719237940651 test_loss: 0.15241436660289764\n",
      "epoch: 185 train_loss 0.122809180191585 test_loss: 0.17596172789732614\n",
      "epoch: 186 train_loss 0.14130602138383047 test_loss: 0.19440038998921713\n",
      "epoch: 187 train_loss 0.15473030720438277 test_loss: 0.2102551112572352\n",
      "epoch: 188 train_loss 0.18021069467067719 test_loss: 0.23471683263778687\n",
      "epoch: 189 train_loss 0.2164130402462823 test_loss: 0.2842216491699219\n",
      "epoch: 190 train_loss 0.25318069968904766 test_loss: 0.30649516979853314\n",
      "epoch: 191 train_loss 0.28227209619113375 test_loss: 0.33627678950627643\n",
      "epoch: 192 train_loss 0.3150520750454494 test_loss: 0.39999351898829144\n",
      "epoch: 193 train_loss 0.3637421599456242 test_loss: 0.4359505871931712\n",
      "epoch: 194 train_loss 0.4221014082431793 test_loss: 0.4615573187669118\n",
      "epoch: 195 train_loss 0.46274726731436594 test_loss: 0.5371421575546265\n",
      "epoch: 196 train_loss 0.5139859616756439 test_loss: 0.553473969300588\n",
      "epoch: 197 train_loss 0.5272334388324192 test_loss: 0.5802044868469238\n",
      "epoch: 198 train_loss 0.5264521326337542 test_loss: 0.5800748268763224\n",
      "epoch: 199 train_loss 0.5559514377798352 test_loss: 0.6013040939966837\n",
      "epoch: 200 train_loss 0.5912171091352191 test_loss: 0.6563747525215149\n",
      "Training time: 29.37 seconds\n"
     ]
    }
   ],
   "source": [
    "import time\n",
    "\n",
    "train_loss =[]\n",
    "test_loss = []\n",
    "start_time = time.time()\n",
    "for epoch in range(epoch_num):\n",
    "    loss_list=[]\n",
    "    for x,y in train_loader:\n",
    "        y_hat = net(x)\n",
    "        l = loss(y_hat,y)\n",
    "        sgd.zero_grad()\n",
    "        l.backward()\n",
    "        sgd.step()\n",
    "        loss_list.append(l.item())\n",
    "\n",
    "    train_mean = np.mean(loss_list)\n",
    "    train_loss.append(train_mean)\n",
    "    loss_list=[]\n",
    "    for x,y in test_loader:\n",
    "        y_hat = net(x)\n",
    "        l = loss(y_hat,y)\n",
    "        # print(l)\n",
    "        loss_list.append(l.item())\n",
    "    test_mean = np.mean(loss_list)\n",
    "    test_loss.append(test_mean)\n",
    "    print(\"epoch:\",epoch+1,\"train_loss\",train_mean,\"test_loss:\",test_mean)\n",
    "end_time = time.time()\n",
    "training_time = end_time - start_time\n",
    "print(f\"Training time: {training_time:.2f} seconds\")"
   ],
   "metadata": {
    "collapsed": false,
    "ExecuteTime": {
     "start_time": "2023-08-01T19:31:19.109008Z",
     "end_time": "2023-08-01T19:31:48.494241Z"
    }
   }
  },
  {
   "cell_type": "markdown",
   "source": [
    "# 模型评估\n",
    "训练用时 29.37秒\n",
    "使用Adam优化器和均方误差（MSE）损失函数进行训练。\n",
    "根据实验结果，我们可以看到随着训练的进行，损失（loss）在每个epoch中都在减小，从初始值约为117.75逐渐减小到约为0.6564。这显示了模型在训练数据上的逐渐优化。"
   ],
   "metadata": {
    "collapsed": false
   }
  },
  {
   "cell_type": "code",
   "execution_count": 7,
   "outputs": [
    {
     "data": {
      "text/plain": "<Figure size 640x480 with 1 Axes>",
      "image/png": "[encoded data removed]"
     },
     "metadata": {},
     "output_type": "display_data"
    }
   ],
   "source": [
    "\n",
    "plt.plot(train_loss, 'b-',label=\"train_loss\")\n",
    "plt.plot(test_loss, 'r-' ,label=\"test_loss\")\n",
    "plt.xlabel('Epoch')\n",
    "plt.ylabel('Loss')\n",
    "plt.title('Loss')\n",
    "plt.legend()\n",
    "plt.show()"
   ],
   "metadata": {
    "collapsed": false,
    "ExecuteTime": {
     "start_time": "2023-08-01T19:32:12.251021Z",
     "end_time": "2023-08-01T19:32:12.477264Z"
    }
   }
  }
 ],
 "metadata": {
  "kernelspec": {
   "display_name": "Python 3",
   "language": "python",
   "name": "python3"
  },
  "language_info": {
   "codemirror_mode": {
    "name": "ipython",
    "version": 2
   },
   "file_extension": ".py",
   "mimetype": "text/x-python",
   "name": "python",
   "nbconvert_exporter": "python",
   "pygments_lexer": "ipython2",
   "version": "2.7.6"
  }
 },
 "nbformat": 4,
 "nbformat_minor": 0
}
