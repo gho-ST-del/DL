{
 "cells": [
  {
   "cell_type": "markdown",
   "metadata": {},
   "source": []
  },
  {
   "cell_type": "code",
   "execution_count": null,
   "metadata": {},
   "outputs": [],
   "source": [
    "import torch\n",
    "import torch.nn as nn\n",
    "import torch.nn.functional as F\n",
    "import numpy as np\n",
    "import matplotlib.pyplot as plt\n",
    "from torch.utils.data import  Dataset,random_split,DataLoader"
   ]
  },
  {
   "cell_type": "code",
   "execution_count": null,
   "metadata": {},
   "outputs": [],
   "source": [
    "# 定义一个名为 plot_series 的函数，用于绘制时间序列图\n",
    "def plot_series(time, plot_series, format='-', start=0, end=None, label=None):\n",
    "    # 使用 matplotlib 绘制时间序列图\n",
    "    plt.plot(time[start:end], plot_series[start:end], format, label=label)\n",
    "    plt.xlabel(\"Time\")  # x轴标签\n",
    "    plt.ylabel(\"Value\")  # y轴标签\n",
    "    if label:  # 如果提供了标签\n",
    "        plt.legend(fontsize=14)  # 显示图例\n",
    "    plt.grid(True)  # 显示网格\n",
    "    plt.show()  # 显示图像\n"
   ]
  },
  {
   "cell_type": "code",
   "execution_count": null,
   "metadata": {},
   "outputs": [],
   "source": [
    "# 定义名为 trend 的函数，用于生成趋势数据\n",
    "def trend(time, slope=0):\n",
    "    \"\"\"\n",
    "    生成趋势数据。\n",
    "\n",
    "    参数:\n",
    "    time (list): 时间的列表。\n",
    "    slope (float): 坡度，默认为0。\n",
    "    \"\"\"\n",
    "    return (slope * time)\n",
    "\n",
    "# 定义名为 whtie_noise 的函数，用于生成白噪声数据\n",
    "def whtie_noise(time, std=1.0, seed=None):\n",
    "    \"\"\"\n",
    "    生成白噪声数据。\n",
    "\n",
    "    参数:\n",
    "    time (list): 时间的列表。\n",
    "    std (float): 标准差，默认为1.0。\n",
    "    seed (int): 种子数，默认为None。\n",
    "    \"\"\"\n",
    "    rnd = np.random.RandomState(seed)\n",
    "    return rnd.randn(len(time)) * std\n",
    "\n",
    "# 定义名为 seasonal_pattern 的函数，用于生成季节性模式数据\n",
    "def seasonal_pattern(season_time):\n",
    "    \"\"\"\n",
    "    生成季节性模式数据。\n",
    "\n",
    "    参数:\n",
    "    season_time (list): 季节时间的列表。\n",
    "    \"\"\"\n",
    "    return np.where(season_time < 0.4,\n",
    "                    np.cos(season_time * 2 * np.pi),\n",
    "                    1 / np.exp(3 * season_time))\n",
    "\n",
    "# 定义名为 seasonality 的函数，用于生成季节性数据\n",
    "def seasonality(time, period, amplitude=1, phase=0):\n",
    "    \"\"\"\n",
    "    生成季节性数据。\n",
    "\n",
    "    参数:\n",
    "    time (list): 时间的列表。\n",
    "    period (int): 周期数。\n",
    "    amplitude (int): 振幅，默认为1。\n",
    "    phase (int): 相位，默认为0。\n",
    "    \"\"\"\n",
    "    season_time = ((time + phase) % period) / period\n",
    "    return amplitude * seasonal_pattern(season_time)\n",
    "def train_test_split(series, split_fraction=0.7):\n",
    "    \"\"\"\n",
    "    将数据集划分为训练集和测试集。\n",
    "\n",
    "    参数:\n",
    "    series (list): 输入的时间序列数据。\n",
    "    split_fraction (float): 划分的比例，默认为0.7。\n",
    "\n",
    "    返回:\n",
    "    train_set (list): 训练集数据。\n",
    "    test_set (list): 测试集数据。\n",
    "    \"\"\"\n",
    "    train_size = int(len(series) * split_fraction)\n",
    "    train_set = series[:train_size]\n",
    "    test_set = series[train_size:]\n",
    "    return train_set, test_set\n"
   ]
  },
  {
   "cell_type": "code",
   "execution_count": null,
   "metadata": {},
   "outputs": [],
   "source": [
    "\n",
    "time = np.arange(4 * 365 + 1)\n",
    "baseline = 10\n",
    "slope = 0.05\n",
    "amplitude = 40\n",
    "noise_level = 2\n",
    "\n",
    "# 生成时间序列数据\n",
    "series = baseline + trend(time, slope) + seasonality(time, period=365, amplitude=amplitude) + whtie_noise(time, noise_level, seed=42)\n",
    "series = series.astype(np.double)\n",
    "\n",
    "# 绘制时间序列图\n",
    "plt.figure(figsize=(10, 6))\n",
    "plot_series(time, series)\n",
    "plt.show()\n"
   ]
  },
  {
   "cell_type": "code",
   "execution_count": null,
   "metadata": {},
   "outputs": [],
   "source": [
    "import torch\n",
    "import random\n",
    "from torch.utils.data import Dataset, DataLoader\n",
    "\n",
    "split_prop = 0.7  # 划分比例\n",
    "train, test = train_test_split(series, split_prop)  # 划分训练集和测试集"
   ]
  }
 ],
 "metadata": {
  "language_info": {
   "name": "python"
  }
 },
 "nbformat": 4,
 "nbformat_minor": 2
}
