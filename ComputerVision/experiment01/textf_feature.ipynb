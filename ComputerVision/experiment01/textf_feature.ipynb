{
 "cells": [
  {
   "cell_type": "code",
   "execution_count": 3,
   "metadata": {},
   "outputs": [],
   "source": [
    "import cv2\n",
    "import numpy as np\n",
    "from skimage.feature import local_binary_pattern\n",
    "from sklearn.cluster import KMeans\n",
    "import matplotlib.pyplot as plt\n",
    "# 读取图像\n",
    "image = cv2.imread(r'E:\\PythonCode\\DeepLearning\\ComputerVision\\data\\data01\\snake.jpg')\n",
    "\n",
    "# 将图像转换为灰度空间\n",
    "gray_image = cv2.cvtColor(image, cv2.COLOR_BGR2GRAY)\n",
    "\n",
    "# 提取 LBP 特征\n",
    "radius = 1\n",
    "n_points = 8 * radius\n",
    "lbp_image = local_binary_pattern(gray_image, n_points, radius, method='uniform')\n",
    "lbp_vector = lbp_image.reshape(-1, 1)\n",
    "def f_kmeans(cluster=50,n=50,pixels=None):\n",
    "    kmeans = KMeans(n_clusters=cluster,random_state=0,n_init = 50)\n",
    "    return kmeans.fit(pixels)\n"
   ]
  },
  {
   "cell_type": "code",
   "execution_count": 7,
   "metadata": {},
   "outputs": [],
   "source": [
    "CLU = 8\n",
    "lbp_kmeans = f_kmeans(cluster=CLU,n=50,pixels = lbp_vector)\n",
    "def show_img(kmeans,cluster):\n",
    "    # 获取每个像素的标签\n",
    "    labels = kmeans.labels_\n",
    "\n",
    "    # 将标签转换回图像尺寸\n",
    "    height, width, _ = image.shape\n",
    "    segmented_image = np.reshape(labels, (height, width)).astype(np.uint8)\n",
    "\n",
    "    # 合并所有类别的像素到一张图像中\n",
    "    merged_image = np.zeros_like(image)\n",
    "    for i in range(cluster):\n",
    "        mask = cv2.inRange(segmented_image, i, i)\n",
    "        color = np.random.randint(0, 255, size=3)\n",
    "        color_image = np.zeros_like(image)\n",
    "        color_image[mask > 0] = color\n",
    "        merged_image = cv2.add(merged_image, color_image)\n",
    "\n",
    "    # 显示合并后的图像\n",
    "    cv2.imshow('Merged Image', merged_image)\n",
    "    cv2.waitKey(0)\n",
    "    cv2.destroyAllWindows()\n",
    "    cv2.imwrite('lbp_kmeans.jpg', merged_image)\n",
    "show_img(lbp_kmeans,CLU)\n"
   ]
  },
  {
   "cell_type": "code",
   "execution_count": 17,
   "metadata": {},
   "outputs": [
    {
     "name": "stderr",
     "output_type": "stream",
     "text": [
      "c:\\ProgramData\\anaconda3\\envs\\DeepLearning\\lib\\site-packages\\sklearn\\cluster\\_kmeans.py:1412: FutureWarning: The default value of `n_init` will change from 10 to 'auto' in 1.4. Set the value of `n_init` explicitly to suppress the warning\n",
      "  super()._check_params_vs_input(X, default_n_init=10)\n"
     ]
    }
   ],
   "source": [
    "import cv2\n",
    "import numpy as np\n",
    "from skimage.feature import local_binary_pattern\n",
    "from sklearn.cluster import KMeans\n",
    "\n",
    "# 读取图像\n",
    "image = cv2.imread(r'E:\\PythonCode\\DeepLearning\\ComputerVision\\data\\data01\\twins.jpg')\n",
    "\n",
    "# 将图像转换为灰度空间\n",
    "gray_image = cv2.cvtColor(image, cv2.COLOR_BGR2GRAY)\n",
    "# 提取 LBP 特征\n",
    "radius = 2\n",
    "n_points = 8 * radius\n",
    "lbp_image = local_binary_pattern(gray_image, n_points, radius, method='uniform')\n",
    "\n",
    "# 将 LBP 特征转换为一维向量\n",
    "lbp_vector = lbp_image.reshape(-1, 1)\n",
    "\n",
    "# 使用 k-means 对 LBP 特征进行分类\n",
    "kmeans = KMeans(n_clusters=2, random_state=0).fit(lbp_vector)\n",
    "labels = kmeans.labels_\n",
    "\n",
    "# 将分类结果转换为图像\n",
    "height, width = gray_image.shape\n",
    "segmented_image = np.reshape(labels, (height, width)).astype(np.uint8)\n",
    "\n",
    "# 显示分割结果图像\n",
    "cv2.imshow('Segmented Image', segmented_image * 255)\n",
    "cv2.waitKey(0)\n",
    "cv2.destroyAllWindows()"
   ]
  }
 ],
 "metadata": {
  "kernelspec": {
   "display_name": "DeepLearning",
   "language": "python",
   "name": "python3"
  },
  "language_info": {
   "codemirror_mode": {
    "name": "ipython",
    "version": 3
   },
   "file_extension": ".py",
   "mimetype": "text/x-python",
   "name": "python",
   "nbconvert_exporter": "python",
   "pygments_lexer": "ipython3",
   "version": "3.10.12"
  }
 },
 "nbformat": 4,
 "nbformat_minor": 2
}
