{
 "cells": [
  {
   "cell_type": "markdown",
   "metadata": {},
   "source": [
    "# 本章节使用python语言实现简单的图像像素级别颜色特征提取\n",
    "- RGB空间像素提取，HSV空间像素提取\n",
    "- 采用K-Means无监督聚类算法实现基于颜色特征的图像分割算法"
   ]
  },
  {
   "cell_type": "code",
   "execution_count": 1,
   "metadata": {},
   "outputs": [],
   "source": [
    "import cv2\n",
    "import numpy as np\n",
    "from sklearn.cluster import KMeans\n",
    "import matplotlib.pyplot as plt\n",
    "\n",
    "# 读取图像\n",
    "image = cv2.imread(r'E:\\PythonCode\\DeepLearning\\ComputerVision\\data\\data01\\gumballs.jpg')\n",
    "\n",
    "# 将图像转换为 RGB 空间\n",
    "rgb_image = cv2.cvtColor(image, cv2.COLOR_BGR2RGB)\n",
    "\n",
    "# 将图像转换为 HSV 空间\n",
    "hsv_image = cv2.cvtColor(image, cv2.COLOR_BGR2HSV)\n",
    "\n",
    "# 将图像转换为一维数组\n",
    "rgb_pixels = rgb_image.reshape((-1, 3))\n",
    "hsv_pixels = hsv_image.reshape((-1, 3))\n",
    "def f_kmeans(cluster=50,n=50,pixels=None):\n",
    "    kmeans = KMeans(n_clusters=cluster,n_init = 50)\n",
    "    return kmeans.fit(pixels)\n",
    "# 运行 K-Means 聚类算法\n",
    "CLU  = 50\n",
    "hsv_kmeans = f_kmeans(cluster=CLU,n=50,pixels = hsv_pixels)\n",
    "rgb_kmeans = f_kmeans(cluster=CLU,n=50,pixels = rgb_pixels)"
   ]
  },
  {
   "cell_type": "code",
   "execution_count": null,
   "metadata": {},
   "outputs": [],
   "source": [
    "\n",
    "def show_img(kmeans,cluster,name):\n",
    "    # 获取每个像素的标签\n",
    "    labels = kmeans.labels_\n",
    "\n",
    "    # 将标签转换回图像尺寸\n",
    "    height, width, _ = image.shape\n",
    "    segmented_image = np.reshape(labels, (height, width)).astype(np.uint8)\n",
    "\n",
    "    # 合并所有类别的像素到一张图像中\n",
    "    merged_image = np.zeros_like(image)\n",
    "    for i in range(cluster):\n",
    "        mask = cv2.inRange(segmented_image, i, i)\n",
    "        color = np.random.randint(0, 255, size=3)\n",
    "        color_image = np.zeros_like(image)\n",
    "        color_image[mask > 0] = color\n",
    "        merged_image = cv2.add(merged_image, color_image)\n",
    "\n",
    "    # 显示合并后的图像\n",
    "    cv2.imshow('Merged Image', merged_image)\n",
    "    cv2.waitKey(0)\n",
    "    cv2.destroyAllWindows()\n",
    "    cv2.imwrite(name,merged_image)\n",
    "show_img(rgb_kmeans,CLU,'rgb.jpg')\n",
    "show_img(hsv_kmeans,CLU,'hsv.jpg')\n"
   ]
  }
 ],
 "metadata": {
  "kernelspec": {
   "display_name": "DeepLearning",
   "language": "python",
   "name": "python3"
  },
  "language_info": {
   "codemirror_mode": {
    "name": "ipython",
    "version": 3
   },
   "file_extension": ".py",
   "mimetype": "text/x-python",
   "name": "python",
   "nbconvert_exporter": "python",
   "pygments_lexer": "ipython3",
   "version": "3.10.12"
  }
 },
 "nbformat": 4,
 "nbformat_minor": 2
}
