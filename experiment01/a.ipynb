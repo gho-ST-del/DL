{
 "cells": [
  {
   "cell_type": "code",
   "execution_count": 45,
   "metadata": {
    "collapsed": true,
    "ExecuteTime": {
     "start_time": "2023-07-06T14:59:18.181868Z",
     "end_time": "2023-07-06T14:59:18.194917Z"
    }
   },
   "outputs": [
    {
     "data": {
      "text/plain": "tensor([[8.2412e-16, 5.5071e-43, 8.2410e-16],\n        [5.5071e-43, 8.3745e-16, 1.1014e-42]], device='cuda:0',\n       requires_grad=True)"
     },
     "execution_count": 45,
     "metadata": {},
     "output_type": "execute_result"
    }
   ],
   "source": [
    "import torch\n",
    "import torch.autograd as autograd\n",
    "from matplotlib import pyplot as plt\n",
    "import numpy as np\n",
    "device= torch.device('cuda')\n",
    "w = torch.empty()\n",
    "\n"
   ]
  },
  {
   "cell_type": "code",
   "execution_count": null,
   "outputs": [],
   "source": [],
   "metadata": {
    "collapsed": false
   }
  }
 ],
 "metadata": {
  "kernelspec": {
   "display_name": "Python 3",
   "language": "python",
   "name": "python3"
  },
  "language_info": {
   "codemirror_mode": {
    "name": "ipython",
    "version": 2
   },
   "file_extension": ".py",
   "mimetype": "text/x-python",
   "name": "python",
   "nbconvert_exporter": "python",
   "pygments_lexer": "ipython2",
   "version": "2.7.6"
  }
 },
 "nbformat": 4,
 "nbformat_minor": 0
}
