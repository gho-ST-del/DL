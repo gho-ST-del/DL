{
 "cells": [
  {
   "cell_type": "markdown",
   "source": [
    "# 导入数据包"
   ],
   "metadata": {
    "collapsed": false
   }
  },
  {
   "cell_type": "code",
   "execution_count": 2,
   "metadata": {
    "collapsed": true,
    "ExecuteTime": {
     "start_time": "2023-08-11T17:16:43.442395Z",
     "end_time": "2023-08-11T17:16:46.211452Z"
    }
   },
   "outputs": [],
   "source": [
    "from torch.utils.data import  Dataset,random_split,DataLoader\n",
    "import numpy as np\n",
    "import torch"
   ]
  },
  {
   "cell_type": "markdown",
   "source": [
    "# 面对对象的dataloader"
   ],
   "metadata": {
    "collapsed": false
   }
  },
  {
   "cell_type": "code",
   "execution_count": 19,
   "outputs": [
    {
     "name": "stdout",
     "output_type": "stream",
     "text": [
      "(17856, 170, 3)\n",
      "10701 3559 3560\n"
     ]
    }
   ],
   "source": [
    "\n",
    "\n",
    "\n",
    "class my_Dataset(Dataset):\n",
    "    def __init__(self, features, labels):\n",
    "        self.X = features\n",
    "        self.y = labels\n",
    "\n",
    "    def __getitem__(self, index):\n",
    "        return self.X[index], self.y[index]\n",
    "\n",
    "    def __len__(self):\n",
    "        return self.X.shape[0]\n",
    "\n",
    "class TrafficDataset:\n",
    "    def __init__(self, sensor=10, target=0):\n",
    "        # 选取适当的检测器用作序列数据\n",
    "        self.raw_data = np.load(r'E:\\毕设文件\\DeepLearning\\data\\traffic.npz')['data']\n",
    "        print(self.raw_data.shape)\n",
    "        self.sensor = sensor\n",
    "        self.target = target\n",
    "        # 数据标准化\n",
    "        self.min = self.raw_data.min()\n",
    "        self.max = self.raw_data.max()\n",
    "        self.data = (self.raw_data - self.min) / (self.max - self.min)\n",
    "\n",
    "    def denormalize(self, x):\n",
    "        return x * (self.max - self.min) + self.min\n",
    "\n",
    "    def construct_set(self, train_por=1, test_por=6, window_size=12, label=0,split=0.6):\n",
    "        train_x = []\n",
    "        train_y = []\n",
    "        val_x = []\n",
    "        val_y = []\n",
    "        test_x = []\n",
    "        test_y = []\n",
    "\n",
    "        len_train = int(self.raw_data.shape[0] * split)\n",
    "        train_seqs = self.raw_data[:len_train]\n",
    "        remain_len = len_train+int((self.raw_data.shape[0] - len_train)/2)\n",
    "\n",
    "\n",
    "        for i in range(train_seqs.shape[0] - window_size):\n",
    "            train_x.append(train_seqs[i:i+window_size, train_por, :].squeeze())\n",
    "            train_y.append(train_seqs[i+window_size, test_por, label].squeeze())\n",
    "\n",
    "        # 补全构造过程\n",
    "\n",
    "        val_seqs=self.raw_data[len_train:remain_len]\n",
    "        for i in range(val_seqs.shape[0] - window_size):\n",
    "            val_x.append(val_seqs[i:i+window_size, train_por, :].squeeze())\n",
    "            val_y.append(val_seqs[i+window_size, test_por, label].squeeze())\n",
    "\n",
    "\n",
    "        test_seqs=self.raw_data[remain_len:]\n",
    "        for i in range(test_seqs.shape[0] - window_size):\n",
    "            test_x.append(test_seqs[i:i+window_size, train_por, :].squeeze())\n",
    "            test_y.append(test_seqs[i+window_size, test_por, label].squeeze())\n",
    "        train_set = my_Dataset(torch.Tensor(train_x), torch.Tensor(train_y))\n",
    "        val_set = my_Dataset(torch.Tensor(val_x), torch.Tensor(val_y))\n",
    "        test_set = my_Dataset(torch.Tensor(test_x), torch.Tensor(test_y))\n",
    "        return train_set, val_set, test_set\n",
    "t=TrafficDataset()\n",
    "train_set, val_set, test_set=t.construct_set()\n",
    "print(train_set.__len__(),val_set.__len__(),test_set.__len__())"
   ],
   "metadata": {
    "collapsed": false,
    "ExecuteTime": {
     "start_time": "2023-08-11T17:41:30.067020Z",
     "end_time": "2023-08-11T17:41:30.601667Z"
    }
   }
  }
 ],
 "metadata": {
  "kernelspec": {
   "display_name": "Python 3",
   "language": "python",
   "name": "python3"
  },
  "language_info": {
   "codemirror_mode": {
    "name": "ipython",
    "version": 2
   },
   "file_extension": ".py",
   "mimetype": "text/x-python",
   "name": "python",
   "nbconvert_exporter": "python",
   "pygments_lexer": "ipython2",
   "version": "2.7.6"
  }
 },
 "nbformat": 4,
 "nbformat_minor": 0
}
